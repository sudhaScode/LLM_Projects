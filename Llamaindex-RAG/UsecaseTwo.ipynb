{
 "cells": [
  {
   "cell_type": "markdown",
   "metadata": {},
   "source": [
    "# RAG System with Llama2 with Hugging Face"
   ]
  },
  {
   "cell_type": "code",
   "execution_count": 13,
   "metadata": {},
   "outputs": [
    {
     "name": "stdout",
     "output_type": "stream",
     "text": [
      "Note: you may need to restart the kernel to use updated packages.\n"
     ]
    }
   ],
   "source": [
    "%pip install -q transformers einops accelerate langchain bitsandbytes"
   ]
  },
  {
   "cell_type": "code",
   "execution_count": 14,
   "metadata": {},
   "outputs": [
    {
     "name": "stdout",
     "output_type": "stream",
     "text": [
      "Requirement already satisfied: typing_extensions in c:\\users\\subommas\\llm_projects\\llamaindex-rag\\ragpro\\lib\\site-packages (4.9.0)\n",
      "Note: you may need to restart the kernel to use updated packages.\n"
     ]
    }
   ],
   "source": [
    "%pip install typing_extensions"
   ]
  },
  {
   "cell_type": "code",
   "execution_count": 15,
   "metadata": {},
   "outputs": [
    {
     "name": "stdout",
     "output_type": "stream",
     "text": [
      "Name: transformers\n",
      "Version: 4.37.2\n",
      "Summary: State-of-the-art Machine Learning for JAX, PyTorch and TensorFlow\n",
      "Home-page: https://github.com/huggingface/transformers\n",
      "Author: The Hugging Face team (past and future) with the help of all our contributors (https://github.com/huggingface/transformers/graphs/contributors)\n",
      "Author-email: transformers@huggingface.co\n",
      "License: Apache 2.0 License\n",
      "Location: c:\\users\\subommas\\llm_projects\\llamaindex-rag\\ragpro\\lib\\site-packages\n",
      "Requires: filelock, huggingface-hub, numpy, packaging, pyyaml, regex, requests, safetensors, tokenizers, tqdm\n",
      "Required-by: sentence-transformers\n",
      "Note: you may need to restart the kernel to use updated packages.\n"
     ]
    }
   ],
   "source": [
    "%pip show transformers"
   ]
  },
  {
   "cell_type": "code",
   "execution_count": 16,
   "metadata": {},
   "outputs": [
    {
     "name": "stdout",
     "output_type": "stream",
     "text": [
      "Requirement already satisfied: sentence_transformers in c:\\users\\subommas\\llm_projects\\llamaindex-rag\\ragpro\\lib\\site-packages (2.3.1)\n",
      "Requirement already satisfied: transformers<5.0.0,>=4.32.0 in c:\\users\\subommas\\llm_projects\\llamaindex-rag\\ragpro\\lib\\site-packages (from sentence_transformers) (4.37.2)\n",
      "Requirement already satisfied: tqdm in c:\\users\\subommas\\llm_projects\\llamaindex-rag\\ragpro\\lib\\site-packages (from sentence_transformers) (4.66.1)\n",
      "Requirement already satisfied: torch>=1.11.0 in c:\\users\\subommas\\llm_projects\\llamaindex-rag\\ragpro\\lib\\site-packages (from sentence_transformers) (2.2.0)\n",
      "Requirement already satisfied: numpy in c:\\users\\subommas\\llm_projects\\llamaindex-rag\\ragpro\\lib\\site-packages (from sentence_transformers) (1.26.3)\n",
      "Requirement already satisfied: scikit-learn in c:\\users\\subommas\\llm_projects\\llamaindex-rag\\ragpro\\lib\\site-packages (from sentence_transformers) (1.4.0)\n",
      "Requirement already satisfied: scipy in c:\\users\\subommas\\llm_projects\\llamaindex-rag\\ragpro\\lib\\site-packages (from sentence_transformers) (1.12.0)\n",
      "Requirement already satisfied: nltk in c:\\users\\subommas\\llm_projects\\llamaindex-rag\\ragpro\\lib\\site-packages (from sentence_transformers) (3.8.1)\n",
      "Requirement already satisfied: sentencepiece in c:\\users\\subommas\\llm_projects\\llamaindex-rag\\ragpro\\lib\\site-packages (from sentence_transformers) (0.1.99)\n",
      "Requirement already satisfied: huggingface-hub>=0.15.1 in c:\\users\\subommas\\llm_projects\\llamaindex-rag\\ragpro\\lib\\site-packages (from sentence_transformers) (0.20.3)\n",
      "Requirement already satisfied: Pillow in c:\\users\\subommas\\llm_projects\\llamaindex-rag\\ragpro\\lib\\site-packages (from sentence_transformers) (10.2.0)\n",
      "Requirement already satisfied: filelock in c:\\users\\subommas\\llm_projects\\llamaindex-rag\\ragpro\\lib\\site-packages (from huggingface-hub>=0.15.1->sentence_transformers) (3.13.1)\n",
      "Requirement already satisfied: fsspec>=2023.5.0 in c:\\users\\subommas\\llm_projects\\llamaindex-rag\\ragpro\\lib\\site-packages (from huggingface-hub>=0.15.1->sentence_transformers) (2023.12.2)\n",
      "Requirement already satisfied: requests in c:\\users\\subommas\\llm_projects\\llamaindex-rag\\ragpro\\lib\\site-packages (from huggingface-hub>=0.15.1->sentence_transformers) (2.31.0)\n",
      "Requirement already satisfied: pyyaml>=5.1 in c:\\users\\subommas\\llm_projects\\llamaindex-rag\\ragpro\\lib\\site-packages (from huggingface-hub>=0.15.1->sentence_transformers) (6.0.1)\n",
      "Requirement already satisfied: typing-extensions>=3.7.4.3 in c:\\users\\subommas\\llm_projects\\llamaindex-rag\\ragpro\\lib\\site-packages (from huggingface-hub>=0.15.1->sentence_transformers) (4.9.0)\n",
      "Requirement already satisfied: packaging>=20.9 in c:\\users\\subommas\\llm_projects\\llamaindex-rag\\ragpro\\lib\\site-packages (from huggingface-hub>=0.15.1->sentence_transformers) (23.2)\n",
      "Requirement already satisfied: sympy in c:\\users\\subommas\\llm_projects\\llamaindex-rag\\ragpro\\lib\\site-packages (from torch>=1.11.0->sentence_transformers) (1.12)\n",
      "Requirement already satisfied: networkx in c:\\users\\subommas\\llm_projects\\llamaindex-rag\\ragpro\\lib\\site-packages (from torch>=1.11.0->sentence_transformers) (3.2.1)\n",
      "Requirement already satisfied: jinja2 in c:\\users\\subommas\\llm_projects\\llamaindex-rag\\ragpro\\lib\\site-packages (from torch>=1.11.0->sentence_transformers) (3.1.3)\n",
      "Requirement already satisfied: colorama in c:\\users\\subommas\\llm_projects\\llamaindex-rag\\ragpro\\lib\\site-packages (from tqdm->sentence_transformers) (0.4.6)\n",
      "Requirement already satisfied: regex!=2019.12.17 in c:\\users\\subommas\\llm_projects\\llamaindex-rag\\ragpro\\lib\\site-packages (from transformers<5.0.0,>=4.32.0->sentence_transformers) (2023.12.25)\n",
      "Requirement already satisfied: tokenizers<0.19,>=0.14 in c:\\users\\subommas\\llm_projects\\llamaindex-rag\\ragpro\\lib\\site-packages (from transformers<5.0.0,>=4.32.0->sentence_transformers) (0.15.1)\n",
      "Requirement already satisfied: safetensors>=0.4.1 in c:\\users\\subommas\\llm_projects\\llamaindex-rag\\ragpro\\lib\\site-packages (from transformers<5.0.0,>=4.32.0->sentence_transformers) (0.4.2)\n",
      "Requirement already satisfied: click in c:\\users\\subommas\\llm_projects\\llamaindex-rag\\ragpro\\lib\\site-packages (from nltk->sentence_transformers) (8.1.7)\n",
      "Requirement already satisfied: joblib in c:\\users\\subommas\\llm_projects\\llamaindex-rag\\ragpro\\lib\\site-packages (from nltk->sentence_transformers) (1.3.2)\n",
      "Requirement already satisfied: threadpoolctl>=2.0.0 in c:\\users\\subommas\\llm_projects\\llamaindex-rag\\ragpro\\lib\\site-packages (from scikit-learn->sentence_transformers) (3.2.0)\n",
      "Requirement already satisfied: MarkupSafe>=2.0 in c:\\users\\subommas\\llm_projects\\llamaindex-rag\\ragpro\\lib\\site-packages (from jinja2->torch>=1.11.0->sentence_transformers) (2.1.4)\n",
      "Requirement already satisfied: charset-normalizer<4,>=2 in c:\\users\\subommas\\llm_projects\\llamaindex-rag\\ragpro\\lib\\site-packages (from requests->huggingface-hub>=0.15.1->sentence_transformers) (3.3.2)\n",
      "Requirement already satisfied: idna<4,>=2.5 in c:\\users\\subommas\\llm_projects\\llamaindex-rag\\ragpro\\lib\\site-packages (from requests->huggingface-hub>=0.15.1->sentence_transformers) (3.6)\n",
      "Requirement already satisfied: urllib3<3,>=1.21.1 in c:\\users\\subommas\\llm_projects\\llamaindex-rag\\ragpro\\lib\\site-packages (from requests->huggingface-hub>=0.15.1->sentence_transformers) (2.2.0)\n",
      "Requirement already satisfied: certifi>=2017.4.17 in c:\\users\\subommas\\llm_projects\\llamaindex-rag\\ragpro\\lib\\site-packages (from requests->huggingface-hub>=0.15.1->sentence_transformers) (2023.11.17)\n",
      "Requirement already satisfied: mpmath>=0.19 in c:\\users\\subommas\\llm_projects\\llamaindex-rag\\ragpro\\lib\\site-packages (from sympy->torch>=1.11.0->sentence_transformers) (1.3.0)\n",
      "Note: you may need to restart the kernel to use updated packages.\n"
     ]
    }
   ],
   "source": [
    "%pip install sentence_transformers"
   ]
  },
  {
   "cell_type": "code",
   "execution_count": 17,
   "metadata": {},
   "outputs": [
    {
     "name": "stdout",
     "output_type": "stream",
     "text": [
      "Requirement already satisfied: llama_index in c:\\users\\subommas\\llm_projects\\llamaindex-rag\\ragpro\\lib\\site-packages (0.9.40)\n",
      "Requirement already satisfied: SQLAlchemy>=1.4.49 in c:\\users\\subommas\\llm_projects\\llamaindex-rag\\ragpro\\lib\\site-packages (from SQLAlchemy[asyncio]>=1.4.49->llama_index) (2.0.25)\n",
      "Requirement already satisfied: aiohttp<4.0.0,>=3.8.6 in c:\\users\\subommas\\llm_projects\\llamaindex-rag\\ragpro\\lib\\site-packages (from llama_index) (3.9.3)\n",
      "Requirement already satisfied: dataclasses-json in c:\\users\\subommas\\llm_projects\\llamaindex-rag\\ragpro\\lib\\site-packages (from llama_index) (0.6.3)\n",
      "Requirement already satisfied: deprecated>=1.2.9.3 in c:\\users\\subommas\\llm_projects\\llamaindex-rag\\ragpro\\lib\\site-packages (from llama_index) (1.2.14)\n",
      "Requirement already satisfied: dirtyjson<2.0.0,>=1.0.8 in c:\\users\\subommas\\llm_projects\\llamaindex-rag\\ragpro\\lib\\site-packages (from llama_index) (1.0.8)\n",
      "Requirement already satisfied: fsspec>=2023.5.0 in c:\\users\\subommas\\llm_projects\\llamaindex-rag\\ragpro\\lib\\site-packages (from llama_index) (2023.12.2)\n",
      "Requirement already satisfied: httpx in c:\\users\\subommas\\llm_projects\\llamaindex-rag\\ragpro\\lib\\site-packages (from llama_index) (0.26.0)\n",
      "Requirement already satisfied: nest-asyncio<2.0.0,>=1.5.8 in c:\\users\\subommas\\llm_projects\\llamaindex-rag\\ragpro\\lib\\site-packages (from llama_index) (1.6.0)\n",
      "Requirement already satisfied: networkx>=3.0 in c:\\users\\subommas\\llm_projects\\llamaindex-rag\\ragpro\\lib\\site-packages (from llama_index) (3.2.1)\n",
      "Requirement already satisfied: nltk<4.0.0,>=3.8.1 in c:\\users\\subommas\\llm_projects\\llamaindex-rag\\ragpro\\lib\\site-packages (from llama_index) (3.8.1)\n",
      "Requirement already satisfied: numpy in c:\\users\\subommas\\llm_projects\\llamaindex-rag\\ragpro\\lib\\site-packages (from llama_index) (1.26.3)\n",
      "Requirement already satisfied: openai>=1.1.0 in c:\\users\\subommas\\llm_projects\\llamaindex-rag\\ragpro\\lib\\site-packages (from llama_index) (1.10.0)\n",
      "Requirement already satisfied: pandas in c:\\users\\subommas\\llm_projects\\llamaindex-rag\\ragpro\\lib\\site-packages (from llama_index) (2.2.0)\n",
      "Requirement already satisfied: requests>=2.31.0 in c:\\users\\subommas\\llm_projects\\llamaindex-rag\\ragpro\\lib\\site-packages (from llama_index) (2.31.0)\n",
      "Requirement already satisfied: tenacity<9.0.0,>=8.2.0 in c:\\users\\subommas\\llm_projects\\llamaindex-rag\\ragpro\\lib\\site-packages (from llama_index) (8.2.3)\n",
      "Requirement already satisfied: tiktoken>=0.3.3 in c:\\users\\subommas\\llm_projects\\llamaindex-rag\\ragpro\\lib\\site-packages (from llama_index) (0.5.2)\n",
      "Requirement already satisfied: typing-extensions>=4.5.0 in c:\\users\\subommas\\llm_projects\\llamaindex-rag\\ragpro\\lib\\site-packages (from llama_index) (4.9.0)\n",
      "Requirement already satisfied: typing-inspect>=0.8.0 in c:\\users\\subommas\\llm_projects\\llamaindex-rag\\ragpro\\lib\\site-packages (from llama_index) (0.9.0)\n",
      "Requirement already satisfied: aiosignal>=1.1.2 in c:\\users\\subommas\\llm_projects\\llamaindex-rag\\ragpro\\lib\\site-packages (from aiohttp<4.0.0,>=3.8.6->llama_index) (1.3.1)\n",
      "Requirement already satisfied: attrs>=17.3.0 in c:\\users\\subommas\\llm_projects\\llamaindex-rag\\ragpro\\lib\\site-packages (from aiohttp<4.0.0,>=3.8.6->llama_index) (23.2.0)\n",
      "Requirement already satisfied: frozenlist>=1.1.1 in c:\\users\\subommas\\llm_projects\\llamaindex-rag\\ragpro\\lib\\site-packages (from aiohttp<4.0.0,>=3.8.6->llama_index) (1.4.1)\n",
      "Requirement already satisfied: multidict<7.0,>=4.5 in c:\\users\\subommas\\llm_projects\\llamaindex-rag\\ragpro\\lib\\site-packages (from aiohttp<4.0.0,>=3.8.6->llama_index) (6.0.4)\n",
      "Requirement already satisfied: yarl<2.0,>=1.0 in c:\\users\\subommas\\llm_projects\\llamaindex-rag\\ragpro\\lib\\site-packages (from aiohttp<4.0.0,>=3.8.6->llama_index) (1.9.4)\n",
      "Requirement already satisfied: async-timeout<5.0,>=4.0 in c:\\users\\subommas\\llm_projects\\llamaindex-rag\\ragpro\\lib\\site-packages (from aiohttp<4.0.0,>=3.8.6->llama_index) (4.0.3)\n",
      "Requirement already satisfied: wrapt<2,>=1.10 in c:\\users\\subommas\\llm_projects\\llamaindex-rag\\ragpro\\lib\\site-packages (from deprecated>=1.2.9.3->llama_index) (1.16.0)\n",
      "Requirement already satisfied: click in c:\\users\\subommas\\llm_projects\\llamaindex-rag\\ragpro\\lib\\site-packages (from nltk<4.0.0,>=3.8.1->llama_index) (8.1.7)\n",
      "Requirement already satisfied: joblib in c:\\users\\subommas\\llm_projects\\llamaindex-rag\\ragpro\\lib\\site-packages (from nltk<4.0.0,>=3.8.1->llama_index) (1.3.2)\n",
      "Requirement already satisfied: regex>=2021.8.3 in c:\\users\\subommas\\llm_projects\\llamaindex-rag\\ragpro\\lib\\site-packages (from nltk<4.0.0,>=3.8.1->llama_index) (2023.12.25)\n",
      "Requirement already satisfied: tqdm in c:\\users\\subommas\\llm_projects\\llamaindex-rag\\ragpro\\lib\\site-packages (from nltk<4.0.0,>=3.8.1->llama_index) (4.66.1)\n",
      "Requirement already satisfied: anyio<5,>=3.5.0 in c:\\users\\subommas\\llm_projects\\llamaindex-rag\\ragpro\\lib\\site-packages (from openai>=1.1.0->llama_index) (4.2.0)\n",
      "Requirement already satisfied: distro<2,>=1.7.0 in c:\\users\\subommas\\llm_projects\\llamaindex-rag\\ragpro\\lib\\site-packages (from openai>=1.1.0->llama_index) (1.9.0)\n",
      "Requirement already satisfied: pydantic<3,>=1.9.0 in c:\\users\\subommas\\llm_projects\\llamaindex-rag\\ragpro\\lib\\site-packages (from openai>=1.1.0->llama_index) (2.6.0)\n",
      "Requirement already satisfied: sniffio in c:\\users\\subommas\\llm_projects\\llamaindex-rag\\ragpro\\lib\\site-packages (from openai>=1.1.0->llama_index) (1.3.0)\n",
      "Requirement already satisfied: certifi in c:\\users\\subommas\\llm_projects\\llamaindex-rag\\ragpro\\lib\\site-packages (from httpx->llama_index) (2023.11.17)\n",
      "Requirement already satisfied: httpcore==1.* in c:\\users\\subommas\\llm_projects\\llamaindex-rag\\ragpro\\lib\\site-packages (from httpx->llama_index) (1.0.2)\n",
      "Requirement already satisfied: idna in c:\\users\\subommas\\llm_projects\\llamaindex-rag\\ragpro\\lib\\site-packages (from httpx->llama_index) (3.6)\n",
      "Requirement already satisfied: h11<0.15,>=0.13 in c:\\users\\subommas\\llm_projects\\llamaindex-rag\\ragpro\\lib\\site-packages (from httpcore==1.*->httpx->llama_index) (0.14.0)\n",
      "Requirement already satisfied: charset-normalizer<4,>=2 in c:\\users\\subommas\\llm_projects\\llamaindex-rag\\ragpro\\lib\\site-packages (from requests>=2.31.0->llama_index) (3.3.2)\n",
      "Requirement already satisfied: urllib3<3,>=1.21.1 in c:\\users\\subommas\\llm_projects\\llamaindex-rag\\ragpro\\lib\\site-packages (from requests>=2.31.0->llama_index) (2.2.0)\n",
      "Requirement already satisfied: greenlet!=0.4.17 in c:\\users\\subommas\\llm_projects\\llamaindex-rag\\ragpro\\lib\\site-packages (from SQLAlchemy>=1.4.49->SQLAlchemy[asyncio]>=1.4.49->llama_index) (3.0.3)\n",
      "Requirement already satisfied: mypy-extensions>=0.3.0 in c:\\users\\subommas\\llm_projects\\llamaindex-rag\\ragpro\\lib\\site-packages (from typing-inspect>=0.8.0->llama_index) (1.0.0)\n",
      "Requirement already satisfied: marshmallow<4.0.0,>=3.18.0 in c:\\users\\subommas\\llm_projects\\llamaindex-rag\\ragpro\\lib\\site-packages (from dataclasses-json->llama_index) (3.20.2)\n",
      "Requirement already satisfied: python-dateutil>=2.8.2 in c:\\users\\subommas\\llm_projects\\llamaindex-rag\\ragpro\\lib\\site-packages (from pandas->llama_index) (2.8.2)\n",
      "Requirement already satisfied: pytz>=2020.1 in c:\\users\\subommas\\llm_projects\\llamaindex-rag\\ragpro\\lib\\site-packages (from pandas->llama_index) (2023.4)\n",
      "Requirement already satisfied: tzdata>=2022.7 in c:\\users\\subommas\\llm_projects\\llamaindex-rag\\ragpro\\lib\\site-packages (from pandas->llama_index) (2023.4)\n",
      "Requirement already satisfied: exceptiongroup>=1.0.2 in c:\\users\\subommas\\llm_projects\\llamaindex-rag\\ragpro\\lib\\site-packages (from anyio<5,>=3.5.0->openai>=1.1.0->llama_index) (1.2.0)\n",
      "Requirement already satisfied: packaging>=17.0 in c:\\users\\subommas\\llm_projects\\llamaindex-rag\\ragpro\\lib\\site-packages (from marshmallow<4.0.0,>=3.18.0->dataclasses-json->llama_index) (23.2)\n",
      "Requirement already satisfied: annotated-types>=0.4.0 in c:\\users\\subommas\\llm_projects\\llamaindex-rag\\ragpro\\lib\\site-packages (from pydantic<3,>=1.9.0->openai>=1.1.0->llama_index) (0.6.0)\n",
      "Requirement already satisfied: pydantic-core==2.16.1 in c:\\users\\subommas\\llm_projects\\llamaindex-rag\\ragpro\\lib\\site-packages (from pydantic<3,>=1.9.0->openai>=1.1.0->llama_index) (2.16.1)\n",
      "Requirement already satisfied: six>=1.5 in c:\\users\\subommas\\llm_projects\\llamaindex-rag\\ragpro\\lib\\site-packages (from python-dateutil>=2.8.2->pandas->llama_index) (1.16.0)\n",
      "Requirement already satisfied: colorama in c:\\users\\subommas\\llm_projects\\llamaindex-rag\\ragpro\\lib\\site-packages (from tqdm->nltk<4.0.0,>=3.8.1->llama_index) (0.4.6)\n",
      "Note: you may need to restart the kernel to use updated packages.\n"
     ]
    }
   ],
   "source": [
    "%pip install llama_index"
   ]
  },
  {
   "cell_type": "code",
   "execution_count": 18,
   "metadata": {},
   "outputs": [],
   "source": [
    "from llama_index import VectorStoreIndex, SimpleDirectoryReader, ServiceContext\n",
    "from llama_index.llms import HuggingFaceLLM\n",
    "from llama_index.prompts.prompts import SimpleInputPrompt"
   ]
  },
  {
   "cell_type": "code",
   "execution_count": 19,
   "metadata": {},
   "outputs": [],
   "source": [
    "docuemnets = SimpleDirectoryReader(\"./data/\").load_data()"
   ]
  },
  {
   "cell_type": "code",
   "execution_count": 20,
   "metadata": {},
   "outputs": [
    {
     "data": {
      "text/plain": [
       "57"
      ]
     },
     "execution_count": 20,
     "metadata": {},
     "output_type": "execute_result"
    }
   ],
   "source": [
    "len(docuemnets)"
   ]
  },
  {
   "cell_type": "code",
   "execution_count": 21,
   "metadata": {},
   "outputs": [],
   "source": [
    "\n",
    "system_prompt=\"\"\"\n",
    "You are a Q&A assistant. Your goal is to answer questions as\n",
    "accurately as possible based on the instructions and context provided.\n",
    "\"\"\"\n",
    "## Default format supportable by LLama2\n",
    "query_wrapper_prompt=SimpleInputPrompt(\"<|USER|>{query_str}<|ASSISTANT|>\")"
   ]
  },
  {
   "cell_type": "code",
   "execution_count": 22,
   "metadata": {},
   "outputs": [
    {
     "name": "stderr",
     "output_type": "stream",
     "text": [
      "UsageError: Line magic function `%huggingface-cli` not found.\n"
     ]
    }
   ],
   "source": [
    "\"\"\"%huggingface-cli login - run the same command in terminal to login\"\"\""
   ]
  },
  {
   "cell_type": "code",
   "execution_count": 23,
   "metadata": {},
   "outputs": [],
   "source": [
    "system_prompt=\"\"\"\n",
    "You are a Q&A assistant. Your goal is to answer questions as\n",
    "accurately as possible based on the instructions and context provided.\n",
    "\"\"\"\n",
    "## Default format supportable by LLama2\n",
    "query_wrapper_prompt=SimpleInputPrompt(\"<|USER|>{query_str}<|ASSISTANT|>\")"
   ]
  },
  {
   "cell_type": "code",
   "execution_count": 26,
   "metadata": {},
   "outputs": [
    {
     "name": "stdout",
     "output_type": "stream",
     "text": [
      "Name: torch\n",
      "Note: you may need to restart the kernel to use updated packages.Version: 2.2.0\n",
      "\n",
      "Summary: Tensors and Dynamic neural networks in Python with strong GPU acceleration\n",
      "Home-page: https://pytorch.org/\n",
      "Author: PyTorch Team\n",
      "Author-email: packages@pytorch.org\n",
      "License: BSD-3\n",
      "Location: c:\\users\\subommas\\llm_projects\\llamaindex-rag\\ragpro\\lib\\site-packages\n",
      "Requires: filelock, fsspec, jinja2, networkx, sympy, typing-extensions\n",
      "Required-by: accelerate, sentence-transformers\n"
     ]
    }
   ],
   "source": [
    "%pip show torch"
   ]
  },
  {
   "cell_type": "code",
   "execution_count": 25,
   "metadata": {},
   "outputs": [
    {
     "ename": "RuntimeError",
     "evalue": "No GPU found. A GPU is needed for quantization.",
     "output_type": "error",
     "traceback": [
      "\u001b[1;31m---------------------------------------------------------------------------\u001b[0m",
      "\u001b[1;31mRuntimeError\u001b[0m                              Traceback (most recent call last)",
      "Cell \u001b[1;32mIn[25], line 3\u001b[0m\n\u001b[0;32m      1\u001b[0m \u001b[39mimport\u001b[39;00m \u001b[39mtorch\u001b[39;00m\n\u001b[1;32m----> 3\u001b[0m llm \u001b[39m=\u001b[39m HuggingFaceLLM(\n\u001b[0;32m      4\u001b[0m     context_window\u001b[39m=\u001b[39;49m\u001b[39m4096\u001b[39;49m,\n\u001b[0;32m      5\u001b[0m     max_new_tokens\u001b[39m=\u001b[39;49m\u001b[39m256\u001b[39;49m,\n\u001b[0;32m      6\u001b[0m     generate_kwargs\u001b[39m=\u001b[39;49m{\u001b[39m\"\u001b[39;49m\u001b[39mtemperature\u001b[39;49m\u001b[39m\"\u001b[39;49m: \u001b[39m0.0\u001b[39;49m, \u001b[39m\"\u001b[39;49m\u001b[39mdo_sample\u001b[39;49m\u001b[39m\"\u001b[39;49m: \u001b[39mFalse\u001b[39;49;00m},\n\u001b[0;32m      7\u001b[0m     system_prompt\u001b[39m=\u001b[39;49msystem_prompt,\n\u001b[0;32m      8\u001b[0m     query_wrapper_prompt\u001b[39m=\u001b[39;49mquery_wrapper_prompt,\n\u001b[0;32m      9\u001b[0m     tokenizer_name\u001b[39m=\u001b[39;49m\u001b[39m\"\u001b[39;49m\u001b[39mcodellama/CodeLlama-70b-Instruct-hf\u001b[39;49m\u001b[39m\"\u001b[39;49m,\n\u001b[0;32m     10\u001b[0m     model_name\u001b[39m=\u001b[39;49m\u001b[39m\"\u001b[39;49m\u001b[39mcodellama/CodeLlama-70b-Instruct-hf\u001b[39;49m\u001b[39m\"\u001b[39;49m,\n\u001b[0;32m     11\u001b[0m     device_map\u001b[39m=\u001b[39;49m\u001b[39m\"\u001b[39;49m\u001b[39mauto\u001b[39;49m\u001b[39m\"\u001b[39;49m,\n\u001b[0;32m     12\u001b[0m     \u001b[39m# uncomment this if using CUDA to reduce memory usage\u001b[39;49;00m\n\u001b[0;32m     13\u001b[0m     model_kwargs\u001b[39m=\u001b[39;49m{\u001b[39m\"\u001b[39;49m\u001b[39mtorch_dtype\u001b[39;49m\u001b[39m\"\u001b[39;49m: torch\u001b[39m.\u001b[39;49mfloat16 , \u001b[39m\"\u001b[39;49m\u001b[39mload_in_8bit\u001b[39;49m\u001b[39m\"\u001b[39;49m:\u001b[39mTrue\u001b[39;49;00m}\n\u001b[0;32m     14\u001b[0m )\n",
      "File \u001b[1;32mc:\\Users\\SUBOMMAS\\LLM_Projects\\Llamaindex-RAG\\ragPro\\lib\\site-packages\\llama_index\\llms\\huggingface.py:175\u001b[0m, in \u001b[0;36mHuggingFaceLLM.__init__\u001b[1;34m(self, context_window, max_new_tokens, query_wrapper_prompt, tokenizer_name, model_name, model, tokenizer, device_map, stopping_ids, tokenizer_kwargs, tokenizer_outputs_to_remove, model_kwargs, generate_kwargs, is_chat_model, callback_manager, system_prompt, messages_to_prompt, completion_to_prompt, pydantic_program_mode, output_parser)\u001b[0m\n\u001b[0;32m    169\u001b[0m     \u001b[39mraise\u001b[39;00m \u001b[39mImportError\u001b[39;00m(\n\u001b[0;32m    170\u001b[0m         \u001b[39mf\u001b[39m\u001b[39m\"\u001b[39m\u001b[39m{\u001b[39;00m\u001b[39mtype\u001b[39m(\u001b[39mself\u001b[39m)\u001b[39m.\u001b[39m\u001b[39m__name__\u001b[39m\u001b[39m}\u001b[39;00m\u001b[39m requires torch and transformers packages.\u001b[39m\u001b[39m\\n\u001b[39;00m\u001b[39m\"\u001b[39m\n\u001b[0;32m    171\u001b[0m         \u001b[39m\"\u001b[39m\u001b[39mPlease install both with `pip install transformers[torch]`.\u001b[39m\u001b[39m\"\u001b[39m\n\u001b[0;32m    172\u001b[0m     ) \u001b[39mfrom\u001b[39;00m \u001b[39mexc\u001b[39;00m\n\u001b[0;32m    174\u001b[0m model_kwargs \u001b[39m=\u001b[39m model_kwargs \u001b[39mor\u001b[39;00m {}\n\u001b[1;32m--> 175\u001b[0m \u001b[39mself\u001b[39m\u001b[39m.\u001b[39m_model \u001b[39m=\u001b[39m model \u001b[39mor\u001b[39;00m AutoModelForCausalLM\u001b[39m.\u001b[39mfrom_pretrained(\n\u001b[0;32m    176\u001b[0m     model_name, device_map\u001b[39m=\u001b[39mdevice_map, \u001b[39m*\u001b[39m\u001b[39m*\u001b[39mmodel_kwargs\n\u001b[0;32m    177\u001b[0m )\n\u001b[0;32m    179\u001b[0m \u001b[39m# check context_window\u001b[39;00m\n\u001b[0;32m    180\u001b[0m config_dict \u001b[39m=\u001b[39m \u001b[39mself\u001b[39m\u001b[39m.\u001b[39m_model\u001b[39m.\u001b[39mconfig\u001b[39m.\u001b[39mto_dict()\n",
      "File \u001b[1;32mc:\\Users\\SUBOMMAS\\LLM_Projects\\Llamaindex-RAG\\ragPro\\lib\\site-packages\\transformers\\models\\auto\\auto_factory.py:566\u001b[0m, in \u001b[0;36m_BaseAutoModelClass.from_pretrained\u001b[1;34m(cls, pretrained_model_name_or_path, *model_args, **kwargs)\u001b[0m\n\u001b[0;32m    564\u001b[0m \u001b[39melif\u001b[39;00m \u001b[39mtype\u001b[39m(config) \u001b[39min\u001b[39;00m \u001b[39mcls\u001b[39m\u001b[39m.\u001b[39m_model_mapping\u001b[39m.\u001b[39mkeys():\n\u001b[0;32m    565\u001b[0m     model_class \u001b[39m=\u001b[39m _get_model_class(config, \u001b[39mcls\u001b[39m\u001b[39m.\u001b[39m_model_mapping)\n\u001b[1;32m--> 566\u001b[0m     \u001b[39mreturn\u001b[39;00m model_class\u001b[39m.\u001b[39mfrom_pretrained(\n\u001b[0;32m    567\u001b[0m         pretrained_model_name_or_path, \u001b[39m*\u001b[39mmodel_args, config\u001b[39m=\u001b[39mconfig, \u001b[39m*\u001b[39m\u001b[39m*\u001b[39mhub_kwargs, \u001b[39m*\u001b[39m\u001b[39m*\u001b[39mkwargs\n\u001b[0;32m    568\u001b[0m     )\n\u001b[0;32m    569\u001b[0m \u001b[39mraise\u001b[39;00m \u001b[39mValueError\u001b[39;00m(\n\u001b[0;32m    570\u001b[0m     \u001b[39mf\u001b[39m\u001b[39m\"\u001b[39m\u001b[39mUnrecognized configuration class \u001b[39m\u001b[39m{\u001b[39;00mconfig\u001b[39m.\u001b[39m\u001b[39m__class__\u001b[39m\u001b[39m}\u001b[39;00m\u001b[39m for this kind of AutoModel: \u001b[39m\u001b[39m{\u001b[39;00m\u001b[39mcls\u001b[39m\u001b[39m.\u001b[39m\u001b[39m__name__\u001b[39m\u001b[39m}\u001b[39;00m\u001b[39m.\u001b[39m\u001b[39m\\n\u001b[39;00m\u001b[39m\"\u001b[39m\n\u001b[0;32m    571\u001b[0m     \u001b[39mf\u001b[39m\u001b[39m\"\u001b[39m\u001b[39mModel type should be one of \u001b[39m\u001b[39m{\u001b[39;00m\u001b[39m'\u001b[39m\u001b[39m, \u001b[39m\u001b[39m'\u001b[39m\u001b[39m.\u001b[39mjoin(c\u001b[39m.\u001b[39m\u001b[39m__name__\u001b[39m\u001b[39m \u001b[39m\u001b[39mfor\u001b[39;00m\u001b[39m \u001b[39mc\u001b[39m \u001b[39m\u001b[39min\u001b[39;00m\u001b[39m \u001b[39m\u001b[39mcls\u001b[39m\u001b[39m.\u001b[39m_model_mapping\u001b[39m.\u001b[39mkeys())\u001b[39m}\u001b[39;00m\u001b[39m.\u001b[39m\u001b[39m\"\u001b[39m\n\u001b[0;32m    572\u001b[0m )\n",
      "File \u001b[1;32mc:\\Users\\SUBOMMAS\\LLM_Projects\\Llamaindex-RAG\\ragPro\\lib\\site-packages\\transformers\\modeling_utils.py:3030\u001b[0m, in \u001b[0;36mPreTrainedModel.from_pretrained\u001b[1;34m(cls, pretrained_model_name_or_path, config, cache_dir, ignore_mismatched_sizes, force_download, local_files_only, token, revision, use_safetensors, *model_args, **kwargs)\u001b[0m\n\u001b[0;32m   3028\u001b[0m \u001b[39mif\u001b[39;00m load_in_8bit \u001b[39mor\u001b[39;00m load_in_4bit:\n\u001b[0;32m   3029\u001b[0m     \u001b[39mif\u001b[39;00m \u001b[39mnot\u001b[39;00m torch\u001b[39m.\u001b[39mcuda\u001b[39m.\u001b[39mis_available():\n\u001b[1;32m-> 3030\u001b[0m         \u001b[39mraise\u001b[39;00m \u001b[39mRuntimeError\u001b[39;00m(\u001b[39m\"\u001b[39m\u001b[39mNo GPU found. A GPU is needed for quantization.\u001b[39m\u001b[39m\"\u001b[39m)\n\u001b[0;32m   3031\u001b[0m     \u001b[39mif\u001b[39;00m \u001b[39mnot\u001b[39;00m (is_accelerate_available() \u001b[39mand\u001b[39;00m is_bitsandbytes_available()):\n\u001b[0;32m   3032\u001b[0m         \u001b[39mraise\u001b[39;00m \u001b[39mImportError\u001b[39;00m(\n\u001b[0;32m   3033\u001b[0m             \u001b[39m\"\u001b[39m\u001b[39mUsing `load_in_8bit=True` requires Accelerate: `pip install accelerate` and the latest version of\u001b[39m\u001b[39m\"\u001b[39m\n\u001b[0;32m   3034\u001b[0m             \u001b[39m\"\u001b[39m\u001b[39m bitsandbytes `pip install -i https://test.pypi.org/simple/ bitsandbytes` or\u001b[39m\u001b[39m\"\u001b[39m\n\u001b[0;32m   3035\u001b[0m             \u001b[39m\"\u001b[39m\u001b[39m `pip install bitsandbytes`.\u001b[39m\u001b[39m\"\u001b[39m\n\u001b[0;32m   3036\u001b[0m         )\n",
      "\u001b[1;31mRuntimeError\u001b[0m: No GPU found. A GPU is needed for quantization."
     ]
    }
   ],
   "source": [
    "import torch\n",
    "\n",
    "llm = HuggingFaceLLM(\n",
    "    context_window=4096,\n",
    "    max_new_tokens=256,\n",
    "    generate_kwargs={\"temperature\": 0.0, \"do_sample\": False},\n",
    "    system_prompt=system_prompt,\n",
    "    query_wrapper_prompt=query_wrapper_prompt,\n",
    "    tokenizer_name=\"codellama/CodeLlama-70b-Instruct-hf\",\n",
    "    model_name=\"codellama/CodeLlama-70b-Instruct-hf\",\n",
    "    device_map=\"auto\",\n",
    "    # uncomment this if using CUDA to reduce memory usage\n",
    "    model_kwargs={\"torch_dtype\": torch.float16 , \"load_in_8bit\":True}\n",
    ")"
   ]
  },
  {
   "cell_type": "code",
   "execution_count": null,
   "metadata": {},
   "outputs": [],
   "source": []
  },
  {
   "cell_type": "code",
   "execution_count": null,
   "metadata": {},
   "outputs": [],
   "source": []
  },
  {
   "cell_type": "code",
   "execution_count": null,
   "metadata": {},
   "outputs": [],
   "source": []
  }
 ],
 "metadata": {
  "kernelspec": {
   "display_name": "Python 3.10.0 (conda)",
   "language": "python",
   "name": "python3"
  },
  "language_info": {
   "codemirror_mode": {
    "name": "ipython",
    "version": 3
   },
   "file_extension": ".py",
   "mimetype": "text/x-python",
   "name": "python",
   "nbconvert_exporter": "python",
   "pygments_lexer": "ipython3",
   "version": "3.10.0"
  },
  "orig_nbformat": 4,
  "vscode": {
   "interpreter": {
    "hash": "addf0a438ea42bb42edbaa2887763356ed4fd541cb4d88b92fa39307bab1e75f"
   }
  }
 },
 "nbformat": 4,
 "nbformat_minor": 2
}
