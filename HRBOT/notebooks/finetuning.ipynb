{
 "cells": [
  {
   "cell_type": "markdown",
   "metadata": {},
   "source": [
    "# Load Environment"
   ]
  },
  {
   "cell_type": "code",
   "execution_count": 59,
   "metadata": {},
   "outputs": [
    {
     "data": {
      "text/plain": [
       "True"
      ]
     },
     "execution_count": 59,
     "metadata": {},
     "output_type": "execute_result"
    }
   ],
   "source": [
    "import os\n",
    "from dotenv import load_dotenv\n",
    "load_dotenv()"
   ]
  },
  {
   "cell_type": "code",
   "execution_count": 60,
   "metadata": {},
   "outputs": [],
   "source": [
    "\n",
    "GOOGLE_API_KEY = os.getenv(\"GOOGLE_API_KEY\")\n",
    "os.environ[\"GOOGLE_API_KEY\"] = GOOGLE_API_KEY"
   ]
  },
  {
   "cell_type": "markdown",
   "metadata": {},
   "source": [
    "# LLM -Gemini Pro libraries"
   ]
  },
  {
   "cell_type": "code",
   "execution_count": 61,
   "metadata": {},
   "outputs": [
    {
     "name": "stdout",
     "output_type": "stream",
     "text": [
      "Requirement already satisfied: llama-index-multi-modal-llms-gemini in c:\\users\\subommas\\llm_projects\\hrbot\\venv\\lib\\site-packages (0.1.1)\n",
      "Requirement already satisfied: google-generativeai<0.4.0,>=0.3.2 in c:\\users\\subommas\\llm_projects\\hrbot\\venv\\lib\\site-packages (from llama-index-multi-modal-llms-gemini) (0.3.2)\n",
      "Requirement already satisfied: llama-index-core<0.11.0,>=0.10.1 in c:\\users\\subommas\\llm_projects\\hrbot\\venv\\lib\\site-packages (from llama-index-multi-modal-llms-gemini) (0.10.3)\n",
      "Requirement already satisfied: llama-index-llms-gemini<0.2.0,>=0.1.1 in c:\\users\\subommas\\llm_projects\\hrbot\\venv\\lib\\site-packages (from llama-index-multi-modal-llms-gemini) (0.1.1)\n",
      "Requirement already satisfied: pillow<11.0.0,>=10.2.0 in c:\\users\\subommas\\llm_projects\\hrbot\\venv\\lib\\site-packages (from llama-index-multi-modal-llms-gemini) (10.2.0)\n",
      "Requirement already satisfied: google-ai-generativelanguage==0.4.0 in c:\\users\\subommas\\llm_projects\\hrbot\\venv\\lib\\site-packages (from google-generativeai<0.4.0,>=0.3.2->llama-index-multi-modal-llms-gemini) (0.4.0)\n",
      "Requirement already satisfied: google-auth in c:\\users\\subommas\\llm_projects\\hrbot\\venv\\lib\\site-packages (from google-generativeai<0.4.0,>=0.3.2->llama-index-multi-modal-llms-gemini) (2.27.0)\n",
      "Requirement already satisfied: google-api-core in c:\\users\\subommas\\llm_projects\\hrbot\\venv\\lib\\site-packages (from google-generativeai<0.4.0,>=0.3.2->llama-index-multi-modal-llms-gemini) (2.17.0)\n",
      "Requirement already satisfied: typing-extensions in c:\\users\\subommas\\llm_projects\\hrbot\\venv\\lib\\site-packages (from google-generativeai<0.4.0,>=0.3.2->llama-index-multi-modal-llms-gemini) (4.9.0)\n",
      "Requirement already satisfied: protobuf in c:\\users\\subommas\\llm_projects\\hrbot\\venv\\lib\\site-packages (from google-generativeai<0.4.0,>=0.3.2->llama-index-multi-modal-llms-gemini) (4.25.2)\n",
      "Requirement already satisfied: tqdm in c:\\users\\subommas\\llm_projects\\hrbot\\venv\\lib\\site-packages (from google-generativeai<0.4.0,>=0.3.2->llama-index-multi-modal-llms-gemini) (4.66.2)\n",
      "Requirement already satisfied: proto-plus<2.0.0dev,>=1.22.3 in c:\\users\\subommas\\llm_projects\\hrbot\\venv\\lib\\site-packages (from google-ai-generativelanguage==0.4.0->google-generativeai<0.4.0,>=0.3.2->llama-index-multi-modal-llms-gemini) (1.23.0)\n",
      "Requirement already satisfied: PyYAML>=6.0.1 in c:\\users\\subommas\\llm_projects\\hrbot\\venv\\lib\\site-packages (from llama-index-core<0.11.0,>=0.10.1->llama-index-multi-modal-llms-gemini) (6.0.1)\n",
      "Requirement already satisfied: SQLAlchemy>=1.4.49 in c:\\users\\subommas\\llm_projects\\hrbot\\venv\\lib\\site-packages (from SQLAlchemy[asyncio]>=1.4.49->llama-index-core<0.11.0,>=0.10.1->llama-index-multi-modal-llms-gemini) (2.0.27)\n",
      "Requirement already satisfied: aiohttp<4.0.0,>=3.8.6 in c:\\users\\subommas\\llm_projects\\hrbot\\venv\\lib\\site-packages (from llama-index-core<0.11.0,>=0.10.1->llama-index-multi-modal-llms-gemini) (3.9.3)\n",
      "Requirement already satisfied: dataclasses-json in c:\\users\\subommas\\llm_projects\\hrbot\\venv\\lib\\site-packages (from llama-index-core<0.11.0,>=0.10.1->llama-index-multi-modal-llms-gemini) (0.6.4)\n",
      "Requirement already satisfied: deprecated>=1.2.9.3 in c:\\users\\subommas\\llm_projects\\hrbot\\venv\\lib\\site-packages (from llama-index-core<0.11.0,>=0.10.1->llama-index-multi-modal-llms-gemini) (1.2.14)\n",
      "Requirement already satisfied: dirtyjson<2.0.0,>=1.0.8 in c:\\users\\subommas\\llm_projects\\hrbot\\venv\\lib\\site-packages (from llama-index-core<0.11.0,>=0.10.1->llama-index-multi-modal-llms-gemini) (1.0.8)\n",
      "Requirement already satisfied: fsspec>=2023.5.0 in c:\\users\\subommas\\llm_projects\\hrbot\\venv\\lib\\site-packages (from llama-index-core<0.11.0,>=0.10.1->llama-index-multi-modal-llms-gemini) (2024.2.0)\n",
      "Requirement already satisfied: httpx in c:\\users\\subommas\\llm_projects\\hrbot\\venv\\lib\\site-packages (from llama-index-core<0.11.0,>=0.10.1->llama-index-multi-modal-llms-gemini) (0.26.0)\n",
      "Requirement already satisfied: nest-asyncio<2.0.0,>=1.5.8 in c:\\users\\subommas\\llm_projects\\hrbot\\venv\\lib\\site-packages (from llama-index-core<0.11.0,>=0.10.1->llama-index-multi-modal-llms-gemini) (1.6.0)\n",
      "Requirement already satisfied: networkx>=3.0 in c:\\users\\subommas\\llm_projects\\hrbot\\venv\\lib\\site-packages (from llama-index-core<0.11.0,>=0.10.1->llama-index-multi-modal-llms-gemini) (3.2.1)\n",
      "Requirement already satisfied: nltk<4.0.0,>=3.8.1 in c:\\users\\subommas\\llm_projects\\hrbot\\venv\\lib\\site-packages (from llama-index-core<0.11.0,>=0.10.1->llama-index-multi-modal-llms-gemini) (3.8.1)\n",
      "Requirement already satisfied: numpy in c:\\users\\subommas\\llm_projects\\hrbot\\venv\\lib\\site-packages (from llama-index-core<0.11.0,>=0.10.1->llama-index-multi-modal-llms-gemini) (1.26.4)\n",
      "Requirement already satisfied: openai>=1.1.0 in c:\\users\\subommas\\llm_projects\\hrbot\\venv\\lib\\site-packages (from llama-index-core<0.11.0,>=0.10.1->llama-index-multi-modal-llms-gemini) (1.12.0)\n",
      "Requirement already satisfied: pandas in c:\\users\\subommas\\llm_projects\\hrbot\\venv\\lib\\site-packages (from llama-index-core<0.11.0,>=0.10.1->llama-index-multi-modal-llms-gemini) (2.2.0)\n",
      "Requirement already satisfied: requests>=2.31.0 in c:\\users\\subommas\\llm_projects\\hrbot\\venv\\lib\\site-packages (from llama-index-core<0.11.0,>=0.10.1->llama-index-multi-modal-llms-gemini) (2.31.0)\n",
      "Requirement already satisfied: tenacity<9.0.0,>=8.2.0 in c:\\users\\subommas\\llm_projects\\hrbot\\venv\\lib\\site-packages (from llama-index-core<0.11.0,>=0.10.1->llama-index-multi-modal-llms-gemini) (8.2.3)\n",
      "Requirement already satisfied: tiktoken>=0.3.3 in c:\\users\\subommas\\llm_projects\\hrbot\\venv\\lib\\site-packages (from llama-index-core<0.11.0,>=0.10.1->llama-index-multi-modal-llms-gemini) (0.6.0)\n",
      "Requirement already satisfied: typing-inspect>=0.8.0 in c:\\users\\subommas\\llm_projects\\hrbot\\venv\\lib\\site-packages (from llama-index-core<0.11.0,>=0.10.1->llama-index-multi-modal-llms-gemini) (0.9.0)\n",
      "Requirement already satisfied: aiosignal>=1.1.2 in c:\\users\\subommas\\llm_projects\\hrbot\\venv\\lib\\site-packages (from aiohttp<4.0.0,>=3.8.6->llama-index-core<0.11.0,>=0.10.1->llama-index-multi-modal-llms-gemini) (1.3.1)\n",
      "Requirement already satisfied: attrs>=17.3.0 in c:\\users\\subommas\\llm_projects\\hrbot\\venv\\lib\\site-packages (from aiohttp<4.0.0,>=3.8.6->llama-index-core<0.11.0,>=0.10.1->llama-index-multi-modal-llms-gemini) (23.2.0)\n",
      "Requirement already satisfied: frozenlist>=1.1.1 in c:\\users\\subommas\\llm_projects\\hrbot\\venv\\lib\\site-packages (from aiohttp<4.0.0,>=3.8.6->llama-index-core<0.11.0,>=0.10.1->llama-index-multi-modal-llms-gemini) (1.4.1)\n",
      "Requirement already satisfied: multidict<7.0,>=4.5 in c:\\users\\subommas\\llm_projects\\hrbot\\venv\\lib\\site-packages (from aiohttp<4.0.0,>=3.8.6->llama-index-core<0.11.0,>=0.10.1->llama-index-multi-modal-llms-gemini) (6.0.5)\n",
      "Requirement already satisfied: yarl<2.0,>=1.0 in c:\\users\\subommas\\llm_projects\\hrbot\\venv\\lib\\site-packages (from aiohttp<4.0.0,>=3.8.6->llama-index-core<0.11.0,>=0.10.1->llama-index-multi-modal-llms-gemini) (1.9.4)\n",
      "Requirement already satisfied: async-timeout<5.0,>=4.0 in c:\\users\\subommas\\llm_projects\\hrbot\\venv\\lib\\site-packages (from aiohttp<4.0.0,>=3.8.6->llama-index-core<0.11.0,>=0.10.1->llama-index-multi-modal-llms-gemini) (4.0.3)\n",
      "Requirement already satisfied: wrapt<2,>=1.10 in c:\\users\\subommas\\llm_projects\\hrbot\\venv\\lib\\site-packages (from deprecated>=1.2.9.3->llama-index-core<0.11.0,>=0.10.1->llama-index-multi-modal-llms-gemini) (1.16.0)\n",
      "Requirement already satisfied: googleapis-common-protos<2.0.dev0,>=1.56.2 in c:\\users\\subommas\\llm_projects\\hrbot\\venv\\lib\\site-packages (from google-api-core->google-generativeai<0.4.0,>=0.3.2->llama-index-multi-modal-llms-gemini) (1.62.0)\n",
      "Requirement already satisfied: cachetools<6.0,>=2.0.0 in c:\\users\\subommas\\llm_projects\\hrbot\\venv\\lib\\site-packages (from google-auth->google-generativeai<0.4.0,>=0.3.2->llama-index-multi-modal-llms-gemini) (5.3.2)\n",
      "Requirement already satisfied: pyasn1-modules>=0.2.1 in c:\\users\\subommas\\llm_projects\\hrbot\\venv\\lib\\site-packages (from google-auth->google-generativeai<0.4.0,>=0.3.2->llama-index-multi-modal-llms-gemini) (0.3.0)\n",
      "Requirement already satisfied: rsa<5,>=3.1.4 in c:\\users\\subommas\\llm_projects\\hrbot\\venv\\lib\\site-packages (from google-auth->google-generativeai<0.4.0,>=0.3.2->llama-index-multi-modal-llms-gemini) (4.9)\n",
      "Requirement already satisfied: click in c:\\users\\subommas\\llm_projects\\hrbot\\venv\\lib\\site-packages (from nltk<4.0.0,>=3.8.1->llama-index-core<0.11.0,>=0.10.1->llama-index-multi-modal-llms-gemini) (8.1.7)\n",
      "Requirement already satisfied: joblib in c:\\users\\subommas\\llm_projects\\hrbot\\venv\\lib\\site-packages (from nltk<4.0.0,>=3.8.1->llama-index-core<0.11.0,>=0.10.1->llama-index-multi-modal-llms-gemini) (1.3.2)\n",
      "Requirement already satisfied: regex>=2021.8.3 in c:\\users\\subommas\\llm_projects\\hrbot\\venv\\lib\\site-packages (from nltk<4.0.0,>=3.8.1->llama-index-core<0.11.0,>=0.10.1->llama-index-multi-modal-llms-gemini) (2023.12.25)\n",
      "Requirement already satisfied: anyio<5,>=3.5.0 in c:\\users\\subommas\\llm_projects\\hrbot\\venv\\lib\\site-packages (from openai>=1.1.0->llama-index-core<0.11.0,>=0.10.1->llama-index-multi-modal-llms-gemini) (4.2.0)\n",
      "Requirement already satisfied: distro<2,>=1.7.0 in c:\\users\\subommas\\llm_projects\\hrbot\\venv\\lib\\site-packages (from openai>=1.1.0->llama-index-core<0.11.0,>=0.10.1->llama-index-multi-modal-llms-gemini) (1.9.0)\n",
      "Requirement already satisfied: pydantic<3,>=1.9.0 in c:\\users\\subommas\\llm_projects\\hrbot\\venv\\lib\\site-packages (from openai>=1.1.0->llama-index-core<0.11.0,>=0.10.1->llama-index-multi-modal-llms-gemini) (1.10.11)\n",
      "Requirement already satisfied: sniffio in c:\\users\\subommas\\llm_projects\\hrbot\\venv\\lib\\site-packages (from openai>=1.1.0->llama-index-core<0.11.0,>=0.10.1->llama-index-multi-modal-llms-gemini) (1.3.0)\n",
      "Requirement already satisfied: certifi in c:\\users\\subommas\\llm_projects\\hrbot\\venv\\lib\\site-packages (from httpx->llama-index-core<0.11.0,>=0.10.1->llama-index-multi-modal-llms-gemini) (2024.2.2)\n",
      "Requirement already satisfied: httpcore==1.* in c:\\users\\subommas\\llm_projects\\hrbot\\venv\\lib\\site-packages (from httpx->llama-index-core<0.11.0,>=0.10.1->llama-index-multi-modal-llms-gemini) (1.0.2)\n",
      "Requirement already satisfied: idna in c:\\users\\subommas\\llm_projects\\hrbot\\venv\\lib\\site-packages (from httpx->llama-index-core<0.11.0,>=0.10.1->llama-index-multi-modal-llms-gemini) (3.6)\n",
      "Requirement already satisfied: h11<0.15,>=0.13 in c:\\users\\subommas\\llm_projects\\hrbot\\venv\\lib\\site-packages (from httpcore==1.*->httpx->llama-index-core<0.11.0,>=0.10.1->llama-index-multi-modal-llms-gemini) (0.14.0)\n",
      "Requirement already satisfied: charset-normalizer<4,>=2 in c:\\users\\subommas\\llm_projects\\hrbot\\venv\\lib\\site-packages (from requests>=2.31.0->llama-index-core<0.11.0,>=0.10.1->llama-index-multi-modal-llms-gemini) (3.3.2)\n",
      "Requirement already satisfied: urllib3<3,>=1.21.1 in c:\\users\\subommas\\llm_projects\\hrbot\\venv\\lib\\site-packages (from requests>=2.31.0->llama-index-core<0.11.0,>=0.10.1->llama-index-multi-modal-llms-gemini) (2.2.0)\n",
      "Requirement already satisfied: greenlet!=0.4.17 in c:\\users\\subommas\\llm_projects\\hrbot\\venv\\lib\\site-packages (from SQLAlchemy>=1.4.49->SQLAlchemy[asyncio]>=1.4.49->llama-index-core<0.11.0,>=0.10.1->llama-index-multi-modal-llms-gemini) (3.0.3)\n",
      "Requirement already satisfied: colorama in c:\\users\\subommas\\llm_projects\\hrbot\\venv\\lib\\site-packages (from tqdm->google-generativeai<0.4.0,>=0.3.2->llama-index-multi-modal-llms-gemini) (0.4.6)\n",
      "Requirement already satisfied: mypy-extensions>=0.3.0 in c:\\users\\subommas\\llm_projects\\hrbot\\venv\\lib\\site-packages (from typing-inspect>=0.8.0->llama-index-core<0.11.0,>=0.10.1->llama-index-multi-modal-llms-gemini) (1.0.0)\n",
      "Requirement already satisfied: marshmallow<4.0.0,>=3.18.0 in c:\\users\\subommas\\llm_projects\\hrbot\\venv\\lib\\site-packages (from dataclasses-json->llama-index-core<0.11.0,>=0.10.1->llama-index-multi-modal-llms-gemini) (3.20.2)\n",
      "Requirement already satisfied: python-dateutil>=2.8.2 in c:\\users\\subommas\\llm_projects\\hrbot\\venv\\lib\\site-packages (from pandas->llama-index-core<0.11.0,>=0.10.1->llama-index-multi-modal-llms-gemini) (2.8.2)\n",
      "Requirement already satisfied: pytz>=2020.1 in c:\\users\\subommas\\llm_projects\\hrbot\\venv\\lib\\site-packages (from pandas->llama-index-core<0.11.0,>=0.10.1->llama-index-multi-modal-llms-gemini) (2024.1)\n",
      "Requirement already satisfied: tzdata>=2022.7 in c:\\users\\subommas\\llm_projects\\hrbot\\venv\\lib\\site-packages (from pandas->llama-index-core<0.11.0,>=0.10.1->llama-index-multi-modal-llms-gemini) (2024.1)\n",
      "Requirement already satisfied: exceptiongroup>=1.0.2 in c:\\users\\subommas\\llm_projects\\hrbot\\venv\\lib\\site-packages (from anyio<5,>=3.5.0->openai>=1.1.0->llama-index-core<0.11.0,>=0.10.1->llama-index-multi-modal-llms-gemini) (1.2.0)\n",
      "Requirement already satisfied: grpcio<2.0dev,>=1.33.2 in c:\\users\\subommas\\llm_projects\\hrbot\\venv\\lib\\site-packages (from google-api-core[grpc]!=2.0.*,!=2.1.*,!=2.10.*,!=2.2.*,!=2.3.*,!=2.4.*,!=2.5.*,!=2.6.*,!=2.7.*,!=2.8.*,!=2.9.*,<3.0.0dev,>=1.34.0->google-ai-generativelanguage==0.4.0->google-generativeai<0.4.0,>=0.3.2->llama-index-multi-modal-llms-gemini) (1.60.1)\n",
      "Requirement already satisfied: grpcio-status<2.0.dev0,>=1.33.2 in c:\\users\\subommas\\llm_projects\\hrbot\\venv\\lib\\site-packages (from google-api-core[grpc]!=2.0.*,!=2.1.*,!=2.10.*,!=2.2.*,!=2.3.*,!=2.4.*,!=2.5.*,!=2.6.*,!=2.7.*,!=2.8.*,!=2.9.*,<3.0.0dev,>=1.34.0->google-ai-generativelanguage==0.4.0->google-generativeai<0.4.0,>=0.3.2->llama-index-multi-modal-llms-gemini) (1.60.1)\n",
      "Requirement already satisfied: packaging>=17.0 in c:\\users\\subommas\\llm_projects\\hrbot\\venv\\lib\\site-packages (from marshmallow<4.0.0,>=3.18.0->dataclasses-json->llama-index-core<0.11.0,>=0.10.1->llama-index-multi-modal-llms-gemini) (23.2)\n",
      "Requirement already satisfied: pyasn1<0.6.0,>=0.4.6 in c:\\users\\subommas\\llm_projects\\hrbot\\venv\\lib\\site-packages (from pyasn1-modules>=0.2.1->google-auth->google-generativeai<0.4.0,>=0.3.2->llama-index-multi-modal-llms-gemini) (0.5.1)\n",
      "Requirement already satisfied: six>=1.5 in c:\\users\\subommas\\llm_projects\\hrbot\\venv\\lib\\site-packages (from python-dateutil>=2.8.2->pandas->llama-index-core<0.11.0,>=0.10.1->llama-index-multi-modal-llms-gemini) (1.16.0)\n",
      "Note: you may need to restart the kernel to use updated packages.\n",
      "Requirement already satisfied: llama-index-llms-gemini in c:\\users\\subommas\\llm_projects\\hrbot\\venv\\lib\\site-packages (0.1.1)\n",
      "Requirement already satisfied: google-generativeai<0.4.0,>=0.3.2 in c:\\users\\subommas\\llm_projects\\hrbot\\venv\\lib\\site-packages (from llama-index-llms-gemini) (0.3.2)\n",
      "Requirement already satisfied: llama-index-core<0.11.0,>=0.10.1 in c:\\users\\subommas\\llm_projects\\hrbot\\venv\\lib\\site-packages (from llama-index-llms-gemini) (0.10.3)\n",
      "Requirement already satisfied: pillow<11.0.0,>=10.2.0 in c:\\users\\subommas\\llm_projects\\hrbot\\venv\\lib\\site-packages (from llama-index-llms-gemini) (10.2.0)\n",
      "Requirement already satisfied: google-ai-generativelanguage==0.4.0 in c:\\users\\subommas\\llm_projects\\hrbot\\venv\\lib\\site-packages (from google-generativeai<0.4.0,>=0.3.2->llama-index-llms-gemini) (0.4.0)\n",
      "Requirement already satisfied: google-auth in c:\\users\\subommas\\llm_projects\\hrbot\\venv\\lib\\site-packages (from google-generativeai<0.4.0,>=0.3.2->llama-index-llms-gemini) (2.27.0)\n",
      "Requirement already satisfied: google-api-core in c:\\users\\subommas\\llm_projects\\hrbot\\venv\\lib\\site-packages (from google-generativeai<0.4.0,>=0.3.2->llama-index-llms-gemini) (2.17.0)\n",
      "Requirement already satisfied: typing-extensions in c:\\users\\subommas\\llm_projects\\hrbot\\venv\\lib\\site-packages (from google-generativeai<0.4.0,>=0.3.2->llama-index-llms-gemini) (4.9.0)\n",
      "Requirement already satisfied: protobuf in c:\\users\\subommas\\llm_projects\\hrbot\\venv\\lib\\site-packages (from google-generativeai<0.4.0,>=0.3.2->llama-index-llms-gemini) (4.25.2)\n",
      "Requirement already satisfied: tqdm in c:\\users\\subommas\\llm_projects\\hrbot\\venv\\lib\\site-packages (from google-generativeai<0.4.0,>=0.3.2->llama-index-llms-gemini) (4.66.2)\n",
      "Requirement already satisfied: proto-plus<2.0.0dev,>=1.22.3 in c:\\users\\subommas\\llm_projects\\hrbot\\venv\\lib\\site-packages (from google-ai-generativelanguage==0.4.0->google-generativeai<0.4.0,>=0.3.2->llama-index-llms-gemini) (1.23.0)\n",
      "Requirement already satisfied: PyYAML>=6.0.1 in c:\\users\\subommas\\llm_projects\\hrbot\\venv\\lib\\site-packages (from llama-index-core<0.11.0,>=0.10.1->llama-index-llms-gemini) (6.0.1)\n",
      "Requirement already satisfied: SQLAlchemy>=1.4.49 in c:\\users\\subommas\\llm_projects\\hrbot\\venv\\lib\\site-packages (from SQLAlchemy[asyncio]>=1.4.49->llama-index-core<0.11.0,>=0.10.1->llama-index-llms-gemini) (2.0.27)\n",
      "Requirement already satisfied: aiohttp<4.0.0,>=3.8.6 in c:\\users\\subommas\\llm_projects\\hrbot\\venv\\lib\\site-packages (from llama-index-core<0.11.0,>=0.10.1->llama-index-llms-gemini) (3.9.3)\n",
      "Requirement already satisfied: dataclasses-json in c:\\users\\subommas\\llm_projects\\hrbot\\venv\\lib\\site-packages (from llama-index-core<0.11.0,>=0.10.1->llama-index-llms-gemini) (0.6.4)\n",
      "Requirement already satisfied: deprecated>=1.2.9.3 in c:\\users\\subommas\\llm_projects\\hrbot\\venv\\lib\\site-packages (from llama-index-core<0.11.0,>=0.10.1->llama-index-llms-gemini) (1.2.14)\n",
      "Requirement already satisfied: dirtyjson<2.0.0,>=1.0.8 in c:\\users\\subommas\\llm_projects\\hrbot\\venv\\lib\\site-packages (from llama-index-core<0.11.0,>=0.10.1->llama-index-llms-gemini) (1.0.8)\n",
      "Requirement already satisfied: fsspec>=2023.5.0 in c:\\users\\subommas\\llm_projects\\hrbot\\venv\\lib\\site-packages (from llama-index-core<0.11.0,>=0.10.1->llama-index-llms-gemini) (2024.2.0)\n",
      "Requirement already satisfied: httpx in c:\\users\\subommas\\llm_projects\\hrbot\\venv\\lib\\site-packages (from llama-index-core<0.11.0,>=0.10.1->llama-index-llms-gemini) (0.26.0)\n",
      "Requirement already satisfied: nest-asyncio<2.0.0,>=1.5.8 in c:\\users\\subommas\\llm_projects\\hrbot\\venv\\lib\\site-packages (from llama-index-core<0.11.0,>=0.10.1->llama-index-llms-gemini) (1.6.0)\n",
      "Requirement already satisfied: networkx>=3.0 in c:\\users\\subommas\\llm_projects\\hrbot\\venv\\lib\\site-packages (from llama-index-core<0.11.0,>=0.10.1->llama-index-llms-gemini) (3.2.1)\n",
      "Requirement already satisfied: nltk<4.0.0,>=3.8.1 in c:\\users\\subommas\\llm_projects\\hrbot\\venv\\lib\\site-packages (from llama-index-core<0.11.0,>=0.10.1->llama-index-llms-gemini) (3.8.1)\n",
      "Requirement already satisfied: numpy in c:\\users\\subommas\\llm_projects\\hrbot\\venv\\lib\\site-packages (from llama-index-core<0.11.0,>=0.10.1->llama-index-llms-gemini) (1.26.4)\n",
      "Requirement already satisfied: openai>=1.1.0 in c:\\users\\subommas\\llm_projects\\hrbot\\venv\\lib\\site-packages (from llama-index-core<0.11.0,>=0.10.1->llama-index-llms-gemini) (1.12.0)\n",
      "Requirement already satisfied: pandas in c:\\users\\subommas\\llm_projects\\hrbot\\venv\\lib\\site-packages (from llama-index-core<0.11.0,>=0.10.1->llama-index-llms-gemini) (2.2.0)\n",
      "Requirement already satisfied: requests>=2.31.0 in c:\\users\\subommas\\llm_projects\\hrbot\\venv\\lib\\site-packages (from llama-index-core<0.11.0,>=0.10.1->llama-index-llms-gemini) (2.31.0)\n",
      "Requirement already satisfied: tenacity<9.0.0,>=8.2.0 in c:\\users\\subommas\\llm_projects\\hrbot\\venv\\lib\\site-packages (from llama-index-core<0.11.0,>=0.10.1->llama-index-llms-gemini) (8.2.3)\n",
      "Requirement already satisfied: tiktoken>=0.3.3 in c:\\users\\subommas\\llm_projects\\hrbot\\venv\\lib\\site-packages (from llama-index-core<0.11.0,>=0.10.1->llama-index-llms-gemini) (0.6.0)\n",
      "Requirement already satisfied: typing-inspect>=0.8.0 in c:\\users\\subommas\\llm_projects\\hrbot\\venv\\lib\\site-packages (from llama-index-core<0.11.0,>=0.10.1->llama-index-llms-gemini) (0.9.0)\n",
      "Requirement already satisfied: aiosignal>=1.1.2 in c:\\users\\subommas\\llm_projects\\hrbot\\venv\\lib\\site-packages (from aiohttp<4.0.0,>=3.8.6->llama-index-core<0.11.0,>=0.10.1->llama-index-llms-gemini) (1.3.1)\n",
      "Requirement already satisfied: attrs>=17.3.0 in c:\\users\\subommas\\llm_projects\\hrbot\\venv\\lib\\site-packages (from aiohttp<4.0.0,>=3.8.6->llama-index-core<0.11.0,>=0.10.1->llama-index-llms-gemini) (23.2.0)\n",
      "Requirement already satisfied: frozenlist>=1.1.1 in c:\\users\\subommas\\llm_projects\\hrbot\\venv\\lib\\site-packages (from aiohttp<4.0.0,>=3.8.6->llama-index-core<0.11.0,>=0.10.1->llama-index-llms-gemini) (1.4.1)\n",
      "Requirement already satisfied: multidict<7.0,>=4.5 in c:\\users\\subommas\\llm_projects\\hrbot\\venv\\lib\\site-packages (from aiohttp<4.0.0,>=3.8.6->llama-index-core<0.11.0,>=0.10.1->llama-index-llms-gemini) (6.0.5)\n",
      "Requirement already satisfied: yarl<2.0,>=1.0 in c:\\users\\subommas\\llm_projects\\hrbot\\venv\\lib\\site-packages (from aiohttp<4.0.0,>=3.8.6->llama-index-core<0.11.0,>=0.10.1->llama-index-llms-gemini) (1.9.4)\n",
      "Requirement already satisfied: async-timeout<5.0,>=4.0 in c:\\users\\subommas\\llm_projects\\hrbot\\venv\\lib\\site-packages (from aiohttp<4.0.0,>=3.8.6->llama-index-core<0.11.0,>=0.10.1->llama-index-llms-gemini) (4.0.3)\n",
      "Requirement already satisfied: wrapt<2,>=1.10 in c:\\users\\subommas\\llm_projects\\hrbot\\venv\\lib\\site-packages (from deprecated>=1.2.9.3->llama-index-core<0.11.0,>=0.10.1->llama-index-llms-gemini) (1.16.0)\n",
      "Requirement already satisfied: googleapis-common-protos<2.0.dev0,>=1.56.2 in c:\\users\\subommas\\llm_projects\\hrbot\\venv\\lib\\site-packages (from google-api-core->google-generativeai<0.4.0,>=0.3.2->llama-index-llms-gemini) (1.62.0)\n",
      "Requirement already satisfied: cachetools<6.0,>=2.0.0 in c:\\users\\subommas\\llm_projects\\hrbot\\venv\\lib\\site-packages (from google-auth->google-generativeai<0.4.0,>=0.3.2->llama-index-llms-gemini) (5.3.2)\n",
      "Requirement already satisfied: pyasn1-modules>=0.2.1 in c:\\users\\subommas\\llm_projects\\hrbot\\venv\\lib\\site-packages (from google-auth->google-generativeai<0.4.0,>=0.3.2->llama-index-llms-gemini) (0.3.0)\n",
      "Requirement already satisfied: rsa<5,>=3.1.4 in c:\\users\\subommas\\llm_projects\\hrbot\\venv\\lib\\site-packages (from google-auth->google-generativeai<0.4.0,>=0.3.2->llama-index-llms-gemini) (4.9)\n",
      "Requirement already satisfied: click in c:\\users\\subommas\\llm_projects\\hrbot\\venv\\lib\\site-packages (from nltk<4.0.0,>=3.8.1->llama-index-core<0.11.0,>=0.10.1->llama-index-llms-gemini) (8.1.7)\n",
      "Requirement already satisfied: joblib in c:\\users\\subommas\\llm_projects\\hrbot\\venv\\lib\\site-packages (from nltk<4.0.0,>=3.8.1->llama-index-core<0.11.0,>=0.10.1->llama-index-llms-gemini) (1.3.2)\n",
      "Requirement already satisfied: regex>=2021.8.3 in c:\\users\\subommas\\llm_projects\\hrbot\\venv\\lib\\site-packages (from nltk<4.0.0,>=3.8.1->llama-index-core<0.11.0,>=0.10.1->llama-index-llms-gemini) (2023.12.25)\n",
      "Requirement already satisfied: anyio<5,>=3.5.0 in c:\\users\\subommas\\llm_projects\\hrbot\\venv\\lib\\site-packages (from openai>=1.1.0->llama-index-core<0.11.0,>=0.10.1->llama-index-llms-gemini) (4.2.0)\n",
      "Requirement already satisfied: distro<2,>=1.7.0 in c:\\users\\subommas\\llm_projects\\hrbot\\venv\\lib\\site-packages (from openai>=1.1.0->llama-index-core<0.11.0,>=0.10.1->llama-index-llms-gemini) (1.9.0)\n",
      "Requirement already satisfied: pydantic<3,>=1.9.0 in c:\\users\\subommas\\llm_projects\\hrbot\\venv\\lib\\site-packages (from openai>=1.1.0->llama-index-core<0.11.0,>=0.10.1->llama-index-llms-gemini) (1.10.11)\n",
      "Requirement already satisfied: sniffio in c:\\users\\subommas\\llm_projects\\hrbot\\venv\\lib\\site-packages (from openai>=1.1.0->llama-index-core<0.11.0,>=0.10.1->llama-index-llms-gemini) (1.3.0)\n",
      "Requirement already satisfied: certifi in c:\\users\\subommas\\llm_projects\\hrbot\\venv\\lib\\site-packages (from httpx->llama-index-core<0.11.0,>=0.10.1->llama-index-llms-gemini) (2024.2.2)\n",
      "Requirement already satisfied: httpcore==1.* in c:\\users\\subommas\\llm_projects\\hrbot\\venv\\lib\\site-packages (from httpx->llama-index-core<0.11.0,>=0.10.1->llama-index-llms-gemini) (1.0.2)\n",
      "Requirement already satisfied: idna in c:\\users\\subommas\\llm_projects\\hrbot\\venv\\lib\\site-packages (from httpx->llama-index-core<0.11.0,>=0.10.1->llama-index-llms-gemini) (3.6)\n",
      "Requirement already satisfied: h11<0.15,>=0.13 in c:\\users\\subommas\\llm_projects\\hrbot\\venv\\lib\\site-packages (from httpcore==1.*->httpx->llama-index-core<0.11.0,>=0.10.1->llama-index-llms-gemini) (0.14.0)\n",
      "Requirement already satisfied: charset-normalizer<4,>=2 in c:\\users\\subommas\\llm_projects\\hrbot\\venv\\lib\\site-packages (from requests>=2.31.0->llama-index-core<0.11.0,>=0.10.1->llama-index-llms-gemini) (3.3.2)\n",
      "Requirement already satisfied: urllib3<3,>=1.21.1 in c:\\users\\subommas\\llm_projects\\hrbot\\venv\\lib\\site-packages (from requests>=2.31.0->llama-index-core<0.11.0,>=0.10.1->llama-index-llms-gemini) (2.2.0)\n",
      "Requirement already satisfied: greenlet!=0.4.17 in c:\\users\\subommas\\llm_projects\\hrbot\\venv\\lib\\site-packages (from SQLAlchemy>=1.4.49->SQLAlchemy[asyncio]>=1.4.49->llama-index-core<0.11.0,>=0.10.1->llama-index-llms-gemini) (3.0.3)\n",
      "Requirement already satisfied: colorama in c:\\users\\subommas\\llm_projects\\hrbot\\venv\\lib\\site-packages (from tqdm->google-generativeai<0.4.0,>=0.3.2->llama-index-llms-gemini) (0.4.6)\n",
      "Requirement already satisfied: mypy-extensions>=0.3.0 in c:\\users\\subommas\\llm_projects\\hrbot\\venv\\lib\\site-packages (from typing-inspect>=0.8.0->llama-index-core<0.11.0,>=0.10.1->llama-index-llms-gemini) (1.0.0)\n",
      "Requirement already satisfied: marshmallow<4.0.0,>=3.18.0 in c:\\users\\subommas\\llm_projects\\hrbot\\venv\\lib\\site-packages (from dataclasses-json->llama-index-core<0.11.0,>=0.10.1->llama-index-llms-gemini) (3.20.2)\n",
      "Requirement already satisfied: python-dateutil>=2.8.2 in c:\\users\\subommas\\llm_projects\\hrbot\\venv\\lib\\site-packages (from pandas->llama-index-core<0.11.0,>=0.10.1->llama-index-llms-gemini) (2.8.2)\n",
      "Requirement already satisfied: pytz>=2020.1 in c:\\users\\subommas\\llm_projects\\hrbot\\venv\\lib\\site-packages (from pandas->llama-index-core<0.11.0,>=0.10.1->llama-index-llms-gemini) (2024.1)\n",
      "Requirement already satisfied: tzdata>=2022.7 in c:\\users\\subommas\\llm_projects\\hrbot\\venv\\lib\\site-packages (from pandas->llama-index-core<0.11.0,>=0.10.1->llama-index-llms-gemini) (2024.1)\n",
      "Requirement already satisfied: exceptiongroup>=1.0.2 in c:\\users\\subommas\\llm_projects\\hrbot\\venv\\lib\\site-packages (from anyio<5,>=3.5.0->openai>=1.1.0->llama-index-core<0.11.0,>=0.10.1->llama-index-llms-gemini) (1.2.0)\n",
      "Requirement already satisfied: grpcio<2.0dev,>=1.33.2 in c:\\users\\subommas\\llm_projects\\hrbot\\venv\\lib\\site-packages (from google-api-core[grpc]!=2.0.*,!=2.1.*,!=2.10.*,!=2.2.*,!=2.3.*,!=2.4.*,!=2.5.*,!=2.6.*,!=2.7.*,!=2.8.*,!=2.9.*,<3.0.0dev,>=1.34.0->google-ai-generativelanguage==0.4.0->google-generativeai<0.4.0,>=0.3.2->llama-index-llms-gemini) (1.60.1)\n",
      "Requirement already satisfied: grpcio-status<2.0.dev0,>=1.33.2 in c:\\users\\subommas\\llm_projects\\hrbot\\venv\\lib\\site-packages (from google-api-core[grpc]!=2.0.*,!=2.1.*,!=2.10.*,!=2.2.*,!=2.3.*,!=2.4.*,!=2.5.*,!=2.6.*,!=2.7.*,!=2.8.*,!=2.9.*,<3.0.0dev,>=1.34.0->google-ai-generativelanguage==0.4.0->google-generativeai<0.4.0,>=0.3.2->llama-index-llms-gemini) (1.60.1)\n",
      "Requirement already satisfied: packaging>=17.0 in c:\\users\\subommas\\llm_projects\\hrbot\\venv\\lib\\site-packages (from marshmallow<4.0.0,>=3.18.0->dataclasses-json->llama-index-core<0.11.0,>=0.10.1->llama-index-llms-gemini) (23.2)\n",
      "Requirement already satisfied: pyasn1<0.6.0,>=0.4.6 in c:\\users\\subommas\\llm_projects\\hrbot\\venv\\lib\\site-packages (from pyasn1-modules>=0.2.1->google-auth->google-generativeai<0.4.0,>=0.3.2->llama-index-llms-gemini) (0.5.1)\n",
      "Requirement already satisfied: six>=1.5 in c:\\users\\subommas\\llm_projects\\hrbot\\venv\\lib\\site-packages (from python-dateutil>=2.8.2->pandas->llama-index-core<0.11.0,>=0.10.1->llama-index-llms-gemini) (1.16.0)\n",
      "Note: you may need to restart the kernel to use updated packages.\n"
     ]
    }
   ],
   "source": [
    "%pip install llama-index-multi-modal-llms-gemini\n",
    "%pip install llama-index-llms-gemini"
   ]
  },
  {
   "cell_type": "code",
   "execution_count": 62,
   "metadata": {},
   "outputs": [],
   "source": [
    "from llama_index.multi_modal_llms.gemini import GeminiMultiModal\n",
    "from llama_index.llms.gemini import Gemini"
   ]
  },
  {
   "cell_type": "markdown",
   "metadata": {},
   "source": [
    "# Embedding libraries"
   ]
  },
  {
   "cell_type": "code",
   "execution_count": 64,
   "metadata": {},
   "outputs": [
    {
     "name": "stdout",
     "output_type": "stream",
     "text": [
      "Requirement already satisfied: llama-index-embeddings-gemini in c:\\users\\subommas\\llm_projects\\hrbot\\venv\\lib\\site-packages (0.1.1)\n",
      "Requirement already satisfied: google-generativeai<0.4.0,>=0.3.2 in c:\\users\\subommas\\llm_projects\\hrbot\\venv\\lib\\site-packages (from llama-index-embeddings-gemini) (0.3.2)\n",
      "Requirement already satisfied: llama-index-core<0.11.0,>=0.10.1 in c:\\users\\subommas\\llm_projects\\hrbot\\venv\\lib\\site-packages (from llama-index-embeddings-gemini) (0.10.3)\n",
      "Requirement already satisfied: google-ai-generativelanguage==0.4.0 in c:\\users\\subommas\\llm_projects\\hrbot\\venv\\lib\\site-packages (from google-generativeai<0.4.0,>=0.3.2->llama-index-embeddings-gemini) (0.4.0)\n",
      "Requirement already satisfied: google-auth in c:\\users\\subommas\\llm_projects\\hrbot\\venv\\lib\\site-packages (from google-generativeai<0.4.0,>=0.3.2->llama-index-embeddings-gemini) (2.27.0)\n",
      "Requirement already satisfied: google-api-core in c:\\users\\subommas\\llm_projects\\hrbot\\venv\\lib\\site-packages (from google-generativeai<0.4.0,>=0.3.2->llama-index-embeddings-gemini) (2.17.0)\n",
      "Requirement already satisfied: typing-extensions in c:\\users\\subommas\\llm_projects\\hrbot\\venv\\lib\\site-packages (from google-generativeai<0.4.0,>=0.3.2->llama-index-embeddings-gemini) (4.9.0)\n",
      "Requirement already satisfied: protobuf in c:\\users\\subommas\\llm_projects\\hrbot\\venv\\lib\\site-packages (from google-generativeai<0.4.0,>=0.3.2->llama-index-embeddings-gemini) (4.25.2)\n",
      "Requirement already satisfied: tqdm in c:\\users\\subommas\\llm_projects\\hrbot\\venv\\lib\\site-packages (from google-generativeai<0.4.0,>=0.3.2->llama-index-embeddings-gemini) (4.66.2)\n",
      "Requirement already satisfied: proto-plus<2.0.0dev,>=1.22.3 in c:\\users\\subommas\\llm_projects\\hrbot\\venv\\lib\\site-packages (from google-ai-generativelanguage==0.4.0->google-generativeai<0.4.0,>=0.3.2->llama-index-embeddings-gemini) (1.23.0)\n",
      "Requirement already satisfied: PyYAML>=6.0.1 in c:\\users\\subommas\\llm_projects\\hrbot\\venv\\lib\\site-packages (from llama-index-core<0.11.0,>=0.10.1->llama-index-embeddings-gemini) (6.0.1)\n",
      "Requirement already satisfied: SQLAlchemy>=1.4.49 in c:\\users\\subommas\\llm_projects\\hrbot\\venv\\lib\\site-packages (from SQLAlchemy[asyncio]>=1.4.49->llama-index-core<0.11.0,>=0.10.1->llama-index-embeddings-gemini) (2.0.27)\n",
      "Requirement already satisfied: aiohttp<4.0.0,>=3.8.6 in c:\\users\\subommas\\llm_projects\\hrbot\\venv\\lib\\site-packages (from llama-index-core<0.11.0,>=0.10.1->llama-index-embeddings-gemini) (3.9.3)\n",
      "Requirement already satisfied: dataclasses-json in c:\\users\\subommas\\llm_projects\\hrbot\\venv\\lib\\site-packages (from llama-index-core<0.11.0,>=0.10.1->llama-index-embeddings-gemini) (0.6.4)\n",
      "Requirement already satisfied: deprecated>=1.2.9.3 in c:\\users\\subommas\\llm_projects\\hrbot\\venv\\lib\\site-packages (from llama-index-core<0.11.0,>=0.10.1->llama-index-embeddings-gemini) (1.2.14)\n",
      "Requirement already satisfied: dirtyjson<2.0.0,>=1.0.8 in c:\\users\\subommas\\llm_projects\\hrbot\\venv\\lib\\site-packages (from llama-index-core<0.11.0,>=0.10.1->llama-index-embeddings-gemini) (1.0.8)\n",
      "Requirement already satisfied: fsspec>=2023.5.0 in c:\\users\\subommas\\llm_projects\\hrbot\\venv\\lib\\site-packages (from llama-index-core<0.11.0,>=0.10.1->llama-index-embeddings-gemini) (2024.2.0)\n",
      "Requirement already satisfied: httpx in c:\\users\\subommas\\llm_projects\\hrbot\\venv\\lib\\site-packages (from llama-index-core<0.11.0,>=0.10.1->llama-index-embeddings-gemini) (0.26.0)\n",
      "Requirement already satisfied: nest-asyncio<2.0.0,>=1.5.8 in c:\\users\\subommas\\llm_projects\\hrbot\\venv\\lib\\site-packages (from llama-index-core<0.11.0,>=0.10.1->llama-index-embeddings-gemini) (1.6.0)\n",
      "Requirement already satisfied: networkx>=3.0 in c:\\users\\subommas\\llm_projects\\hrbot\\venv\\lib\\site-packages (from llama-index-core<0.11.0,>=0.10.1->llama-index-embeddings-gemini) (3.2.1)\n",
      "Requirement already satisfied: nltk<4.0.0,>=3.8.1 in c:\\users\\subommas\\llm_projects\\hrbot\\venv\\lib\\site-packages (from llama-index-core<0.11.0,>=0.10.1->llama-index-embeddings-gemini) (3.8.1)\n",
      "Requirement already satisfied: numpy in c:\\users\\subommas\\llm_projects\\hrbot\\venv\\lib\\site-packages (from llama-index-core<0.11.0,>=0.10.1->llama-index-embeddings-gemini) (1.26.4)\n",
      "Requirement already satisfied: openai>=1.1.0 in c:\\users\\subommas\\llm_projects\\hrbot\\venv\\lib\\site-packages (from llama-index-core<0.11.0,>=0.10.1->llama-index-embeddings-gemini) (1.12.0)\n",
      "Requirement already satisfied: pandas in c:\\users\\subommas\\llm_projects\\hrbot\\venv\\lib\\site-packages (from llama-index-core<0.11.0,>=0.10.1->llama-index-embeddings-gemini) (2.2.0)\n",
      "Requirement already satisfied: pillow>=9.0.0 in c:\\users\\subommas\\llm_projects\\hrbot\\venv\\lib\\site-packages (from llama-index-core<0.11.0,>=0.10.1->llama-index-embeddings-gemini) (10.2.0)\n",
      "Requirement already satisfied: requests>=2.31.0 in c:\\users\\subommas\\llm_projects\\hrbot\\venv\\lib\\site-packages (from llama-index-core<0.11.0,>=0.10.1->llama-index-embeddings-gemini) (2.31.0)\n",
      "Requirement already satisfied: tenacity<9.0.0,>=8.2.0 in c:\\users\\subommas\\llm_projects\\hrbot\\venv\\lib\\site-packages (from llama-index-core<0.11.0,>=0.10.1->llama-index-embeddings-gemini) (8.2.3)\n",
      "Requirement already satisfied: tiktoken>=0.3.3 in c:\\users\\subommas\\llm_projects\\hrbot\\venv\\lib\\site-packages (from llama-index-core<0.11.0,>=0.10.1->llama-index-embeddings-gemini) (0.6.0)\n",
      "Requirement already satisfied: typing-inspect>=0.8.0 in c:\\users\\subommas\\llm_projects\\hrbot\\venv\\lib\\site-packages (from llama-index-core<0.11.0,>=0.10.1->llama-index-embeddings-gemini) (0.9.0)\n",
      "Requirement already satisfied: aiosignal>=1.1.2 in c:\\users\\subommas\\llm_projects\\hrbot\\venv\\lib\\site-packages (from aiohttp<4.0.0,>=3.8.6->llama-index-core<0.11.0,>=0.10.1->llama-index-embeddings-gemini) (1.3.1)\n",
      "Requirement already satisfied: attrs>=17.3.0 in c:\\users\\subommas\\llm_projects\\hrbot\\venv\\lib\\site-packages (from aiohttp<4.0.0,>=3.8.6->llama-index-core<0.11.0,>=0.10.1->llama-index-embeddings-gemini) (23.2.0)\n",
      "Requirement already satisfied: frozenlist>=1.1.1 in c:\\users\\subommas\\llm_projects\\hrbot\\venv\\lib\\site-packages (from aiohttp<4.0.0,>=3.8.6->llama-index-core<0.11.0,>=0.10.1->llama-index-embeddings-gemini) (1.4.1)\n",
      "Requirement already satisfied: multidict<7.0,>=4.5 in c:\\users\\subommas\\llm_projects\\hrbot\\venv\\lib\\site-packages (from aiohttp<4.0.0,>=3.8.6->llama-index-core<0.11.0,>=0.10.1->llama-index-embeddings-gemini) (6.0.5)\n",
      "Requirement already satisfied: yarl<2.0,>=1.0 in c:\\users\\subommas\\llm_projects\\hrbot\\venv\\lib\\site-packages (from aiohttp<4.0.0,>=3.8.6->llama-index-core<0.11.0,>=0.10.1->llama-index-embeddings-gemini) (1.9.4)\n",
      "Requirement already satisfied: async-timeout<5.0,>=4.0 in c:\\users\\subommas\\llm_projects\\hrbot\\venv\\lib\\site-packages (from aiohttp<4.0.0,>=3.8.6->llama-index-core<0.11.0,>=0.10.1->llama-index-embeddings-gemini) (4.0.3)\n",
      "Requirement already satisfied: wrapt<2,>=1.10 in c:\\users\\subommas\\llm_projects\\hrbot\\venv\\lib\\site-packages (from deprecated>=1.2.9.3->llama-index-core<0.11.0,>=0.10.1->llama-index-embeddings-gemini) (1.16.0)\n",
      "Requirement already satisfied: googleapis-common-protos<2.0.dev0,>=1.56.2 in c:\\users\\subommas\\llm_projects\\hrbot\\venv\\lib\\site-packages (from google-api-core->google-generativeai<0.4.0,>=0.3.2->llama-index-embeddings-gemini) (1.62.0)\n",
      "Requirement already satisfied: cachetools<6.0,>=2.0.0 in c:\\users\\subommas\\llm_projects\\hrbot\\venv\\lib\\site-packages (from google-auth->google-generativeai<0.4.0,>=0.3.2->llama-index-embeddings-gemini) (5.3.2)\n",
      "Requirement already satisfied: pyasn1-modules>=0.2.1 in c:\\users\\subommas\\llm_projects\\hrbot\\venv\\lib\\site-packages (from google-auth->google-generativeai<0.4.0,>=0.3.2->llama-index-embeddings-gemini) (0.3.0)\n",
      "Requirement already satisfied: rsa<5,>=3.1.4 in c:\\users\\subommas\\llm_projects\\hrbot\\venv\\lib\\site-packages (from google-auth->google-generativeai<0.4.0,>=0.3.2->llama-index-embeddings-gemini) (4.9)\n",
      "Requirement already satisfied: click in c:\\users\\subommas\\llm_projects\\hrbot\\venv\\lib\\site-packages (from nltk<4.0.0,>=3.8.1->llama-index-core<0.11.0,>=0.10.1->llama-index-embeddings-gemini) (8.1.7)\n",
      "Requirement already satisfied: joblib in c:\\users\\subommas\\llm_projects\\hrbot\\venv\\lib\\site-packages (from nltk<4.0.0,>=3.8.1->llama-index-core<0.11.0,>=0.10.1->llama-index-embeddings-gemini) (1.3.2)\n",
      "Requirement already satisfied: regex>=2021.8.3 in c:\\users\\subommas\\llm_projects\\hrbot\\venv\\lib\\site-packages (from nltk<4.0.0,>=3.8.1->llama-index-core<0.11.0,>=0.10.1->llama-index-embeddings-gemini) (2023.12.25)\n",
      "Requirement already satisfied: anyio<5,>=3.5.0 in c:\\users\\subommas\\llm_projects\\hrbot\\venv\\lib\\site-packages (from openai>=1.1.0->llama-index-core<0.11.0,>=0.10.1->llama-index-embeddings-gemini) (4.2.0)\n",
      "Requirement already satisfied: distro<2,>=1.7.0 in c:\\users\\subommas\\llm_projects\\hrbot\\venv\\lib\\site-packages (from openai>=1.1.0->llama-index-core<0.11.0,>=0.10.1->llama-index-embeddings-gemini) (1.9.0)\n",
      "Requirement already satisfied: pydantic<3,>=1.9.0 in c:\\users\\subommas\\llm_projects\\hrbot\\venv\\lib\\site-packages (from openai>=1.1.0->llama-index-core<0.11.0,>=0.10.1->llama-index-embeddings-gemini) (1.10.11)\n",
      "Requirement already satisfied: sniffio in c:\\users\\subommas\\llm_projects\\hrbot\\venv\\lib\\site-packages (from openai>=1.1.0->llama-index-core<0.11.0,>=0.10.1->llama-index-embeddings-gemini) (1.3.0)\n",
      "Requirement already satisfied: certifi in c:\\users\\subommas\\llm_projects\\hrbot\\venv\\lib\\site-packages (from httpx->llama-index-core<0.11.0,>=0.10.1->llama-index-embeddings-gemini) (2024.2.2)\n",
      "Requirement already satisfied: httpcore==1.* in c:\\users\\subommas\\llm_projects\\hrbot\\venv\\lib\\site-packages (from httpx->llama-index-core<0.11.0,>=0.10.1->llama-index-embeddings-gemini) (1.0.2)\n",
      "Requirement already satisfied: idna in c:\\users\\subommas\\llm_projects\\hrbot\\venv\\lib\\site-packages (from httpx->llama-index-core<0.11.0,>=0.10.1->llama-index-embeddings-gemini) (3.6)\n",
      "Requirement already satisfied: h11<0.15,>=0.13 in c:\\users\\subommas\\llm_projects\\hrbot\\venv\\lib\\site-packages (from httpcore==1.*->httpx->llama-index-core<0.11.0,>=0.10.1->llama-index-embeddings-gemini) (0.14.0)\n",
      "Requirement already satisfied: charset-normalizer<4,>=2 in c:\\users\\subommas\\llm_projects\\hrbot\\venv\\lib\\site-packages (from requests>=2.31.0->llama-index-core<0.11.0,>=0.10.1->llama-index-embeddings-gemini) (3.3.2)\n",
      "Requirement already satisfied: urllib3<3,>=1.21.1 in c:\\users\\subommas\\llm_projects\\hrbot\\venv\\lib\\site-packages (from requests>=2.31.0->llama-index-core<0.11.0,>=0.10.1->llama-index-embeddings-gemini) (2.2.0)\n",
      "Requirement already satisfied: greenlet!=0.4.17 in c:\\users\\subommas\\llm_projects\\hrbot\\venv\\lib\\site-packages (from SQLAlchemy>=1.4.49->SQLAlchemy[asyncio]>=1.4.49->llama-index-core<0.11.0,>=0.10.1->llama-index-embeddings-gemini) (3.0.3)\n",
      "Requirement already satisfied: colorama in c:\\users\\subommas\\llm_projects\\hrbot\\venv\\lib\\site-packages (from tqdm->google-generativeai<0.4.0,>=0.3.2->llama-index-embeddings-gemini) (0.4.6)\n",
      "Requirement already satisfied: mypy-extensions>=0.3.0 in c:\\users\\subommas\\llm_projects\\hrbot\\venv\\lib\\site-packages (from typing-inspect>=0.8.0->llama-index-core<0.11.0,>=0.10.1->llama-index-embeddings-gemini) (1.0.0)\n",
      "Requirement already satisfied: marshmallow<4.0.0,>=3.18.0 in c:\\users\\subommas\\llm_projects\\hrbot\\venv\\lib\\site-packages (from dataclasses-json->llama-index-core<0.11.0,>=0.10.1->llama-index-embeddings-gemini) (3.20.2)\n",
      "Requirement already satisfied: python-dateutil>=2.8.2 in c:\\users\\subommas\\llm_projects\\hrbot\\venv\\lib\\site-packages (from pandas->llama-index-core<0.11.0,>=0.10.1->llama-index-embeddings-gemini) (2.8.2)\n",
      "Requirement already satisfied: pytz>=2020.1 in c:\\users\\subommas\\llm_projects\\hrbot\\venv\\lib\\site-packages (from pandas->llama-index-core<0.11.0,>=0.10.1->llama-index-embeddings-gemini) (2024.1)\n",
      "Requirement already satisfied: tzdata>=2022.7 in c:\\users\\subommas\\llm_projects\\hrbot\\venv\\lib\\site-packages (from pandas->llama-index-core<0.11.0,>=0.10.1->llama-index-embeddings-gemini) (2024.1)\n",
      "Requirement already satisfied: exceptiongroup>=1.0.2 in c:\\users\\subommas\\llm_projects\\hrbot\\venv\\lib\\site-packages (from anyio<5,>=3.5.0->openai>=1.1.0->llama-index-core<0.11.0,>=0.10.1->llama-index-embeddings-gemini) (1.2.0)\n",
      "Requirement already satisfied: grpcio<2.0dev,>=1.33.2 in c:\\users\\subommas\\llm_projects\\hrbot\\venv\\lib\\site-packages (from google-api-core[grpc]!=2.0.*,!=2.1.*,!=2.10.*,!=2.2.*,!=2.3.*,!=2.4.*,!=2.5.*,!=2.6.*,!=2.7.*,!=2.8.*,!=2.9.*,<3.0.0dev,>=1.34.0->google-ai-generativelanguage==0.4.0->google-generativeai<0.4.0,>=0.3.2->llama-index-embeddings-gemini) (1.60.1)\n",
      "Requirement already satisfied: grpcio-status<2.0.dev0,>=1.33.2 in c:\\users\\subommas\\llm_projects\\hrbot\\venv\\lib\\site-packages (from google-api-core[grpc]!=2.0.*,!=2.1.*,!=2.10.*,!=2.2.*,!=2.3.*,!=2.4.*,!=2.5.*,!=2.6.*,!=2.7.*,!=2.8.*,!=2.9.*,<3.0.0dev,>=1.34.0->google-ai-generativelanguage==0.4.0->google-generativeai<0.4.0,>=0.3.2->llama-index-embeddings-gemini) (1.60.1)\n",
      "Requirement already satisfied: packaging>=17.0 in c:\\users\\subommas\\llm_projects\\hrbot\\venv\\lib\\site-packages (from marshmallow<4.0.0,>=3.18.0->dataclasses-json->llama-index-core<0.11.0,>=0.10.1->llama-index-embeddings-gemini) (23.2)\n",
      "Requirement already satisfied: pyasn1<0.6.0,>=0.4.6 in c:\\users\\subommas\\llm_projects\\hrbot\\venv\\lib\\site-packages (from pyasn1-modules>=0.2.1->google-auth->google-generativeai<0.4.0,>=0.3.2->llama-index-embeddings-gemini) (0.5.1)\n",
      "Requirement already satisfied: six>=1.5 in c:\\users\\subommas\\llm_projects\\hrbot\\venv\\lib\\site-packages (from python-dateutil>=2.8.2->pandas->llama-index-core<0.11.0,>=0.10.1->llama-index-embeddings-gemini) (1.16.0)\n",
      "Note: you may need to restart the kernel to use updated packages.\n",
      "Requirement already satisfied: llama-index-vector-stores-chroma in c:\\users\\subommas\\llm_projects\\hrbot\\venv\\lib\\site-packages (0.1.1)\n",
      "Requirement already satisfied: chromadb<0.5.0,>=0.4.22 in c:\\users\\subommas\\llm_projects\\hrbot\\venv\\lib\\site-packages (from llama-index-vector-stores-chroma) (0.4.22)\n",
      "Requirement already satisfied: llama-index-core<0.11.0,>=0.10.1 in c:\\users\\subommas\\llm_projects\\hrbot\\venv\\lib\\site-packages (from llama-index-vector-stores-chroma) (0.10.3)\n",
      "Requirement already satisfied: onnxruntime<2.0.0,>=1.17.0 in c:\\users\\subommas\\llm_projects\\hrbot\\venv\\lib\\site-packages (from llama-index-vector-stores-chroma) (1.17.0)\n",
      "Requirement already satisfied: tokenizers<0.16.0,>=0.15.1 in c:\\users\\subommas\\llm_projects\\hrbot\\venv\\lib\\site-packages (from llama-index-vector-stores-chroma) (0.15.2)\n",
      "Requirement already satisfied: build>=1.0.3 in c:\\users\\subommas\\llm_projects\\hrbot\\venv\\lib\\site-packages (from chromadb<0.5.0,>=0.4.22->llama-index-vector-stores-chroma) (1.0.3)\n",
      "Requirement already satisfied: requests>=2.28 in c:\\users\\subommas\\llm_projects\\hrbot\\venv\\lib\\site-packages (from chromadb<0.5.0,>=0.4.22->llama-index-vector-stores-chroma) (2.31.0)\n",
      "Requirement already satisfied: pydantic>=1.9 in c:\\users\\subommas\\llm_projects\\hrbot\\venv\\lib\\site-packages (from chromadb<0.5.0,>=0.4.22->llama-index-vector-stores-chroma) (1.10.11)\n",
      "Requirement already satisfied: chroma-hnswlib==0.7.3 in c:\\users\\subommas\\llm_projects\\hrbot\\venv\\lib\\site-packages (from chromadb<0.5.0,>=0.4.22->llama-index-vector-stores-chroma) (0.7.3)\n",
      "Requirement already satisfied: fastapi>=0.95.2 in c:\\users\\subommas\\llm_projects\\hrbot\\venv\\lib\\site-packages (from chromadb<0.5.0,>=0.4.22->llama-index-vector-stores-chroma) (0.109.2)\n",
      "Requirement already satisfied: uvicorn>=0.18.3 in c:\\users\\subommas\\llm_projects\\hrbot\\venv\\lib\\site-packages (from uvicorn[standard]>=0.18.3->chromadb<0.5.0,>=0.4.22->llama-index-vector-stores-chroma) (0.27.1)\n",
      "Requirement already satisfied: numpy>=1.22.5 in c:\\users\\subommas\\llm_projects\\hrbot\\venv\\lib\\site-packages (from chromadb<0.5.0,>=0.4.22->llama-index-vector-stores-chroma) (1.26.4)\n",
      "Requirement already satisfied: posthog>=2.4.0 in c:\\users\\subommas\\llm_projects\\hrbot\\venv\\lib\\site-packages (from chromadb<0.5.0,>=0.4.22->llama-index-vector-stores-chroma) (3.4.1)\n",
      "Requirement already satisfied: typing-extensions>=4.5.0 in c:\\users\\subommas\\llm_projects\\hrbot\\venv\\lib\\site-packages (from chromadb<0.5.0,>=0.4.22->llama-index-vector-stores-chroma) (4.9.0)\n",
      "Requirement already satisfied: pulsar-client>=3.1.0 in c:\\users\\subommas\\llm_projects\\hrbot\\venv\\lib\\site-packages (from chromadb<0.5.0,>=0.4.22->llama-index-vector-stores-chroma) (3.4.0)\n",
      "Requirement already satisfied: opentelemetry-api>=1.2.0 in c:\\users\\subommas\\llm_projects\\hrbot\\venv\\lib\\site-packages (from chromadb<0.5.0,>=0.4.22->llama-index-vector-stores-chroma) (1.22.0)\n",
      "Requirement already satisfied: opentelemetry-exporter-otlp-proto-grpc>=1.2.0 in c:\\users\\subommas\\llm_projects\\hrbot\\venv\\lib\\site-packages (from chromadb<0.5.0,>=0.4.22->llama-index-vector-stores-chroma) (1.22.0)\n",
      "Requirement already satisfied: opentelemetry-instrumentation-fastapi>=0.41b0 in c:\\users\\subommas\\llm_projects\\hrbot\\venv\\lib\\site-packages (from chromadb<0.5.0,>=0.4.22->llama-index-vector-stores-chroma) (0.43b0)\n",
      "Requirement already satisfied: opentelemetry-sdk>=1.2.0 in c:\\users\\subommas\\llm_projects\\hrbot\\venv\\lib\\site-packages (from chromadb<0.5.0,>=0.4.22->llama-index-vector-stores-chroma) (1.22.0)\n",
      "Requirement already satisfied: pypika>=0.48.9 in c:\\users\\subommas\\llm_projects\\hrbot\\venv\\lib\\site-packages (from chromadb<0.5.0,>=0.4.22->llama-index-vector-stores-chroma) (0.48.9)\n",
      "Requirement already satisfied: tqdm>=4.65.0 in c:\\users\\subommas\\llm_projects\\hrbot\\venv\\lib\\site-packages (from chromadb<0.5.0,>=0.4.22->llama-index-vector-stores-chroma) (4.66.2)\n",
      "Requirement already satisfied: overrides>=7.3.1 in c:\\users\\subommas\\llm_projects\\hrbot\\venv\\lib\\site-packages (from chromadb<0.5.0,>=0.4.22->llama-index-vector-stores-chroma) (7.7.0)\n",
      "Requirement already satisfied: importlib-resources in c:\\users\\subommas\\llm_projects\\hrbot\\venv\\lib\\site-packages (from chromadb<0.5.0,>=0.4.22->llama-index-vector-stores-chroma) (6.1.1)\n",
      "Requirement already satisfied: grpcio>=1.58.0 in c:\\users\\subommas\\llm_projects\\hrbot\\venv\\lib\\site-packages (from chromadb<0.5.0,>=0.4.22->llama-index-vector-stores-chroma) (1.60.1)\n",
      "Requirement already satisfied: bcrypt>=4.0.1 in c:\\users\\subommas\\llm_projects\\hrbot\\venv\\lib\\site-packages (from chromadb<0.5.0,>=0.4.22->llama-index-vector-stores-chroma) (4.1.2)\n",
      "Requirement already satisfied: typer>=0.9.0 in c:\\users\\subommas\\llm_projects\\hrbot\\venv\\lib\\site-packages (from chromadb<0.5.0,>=0.4.22->llama-index-vector-stores-chroma) (0.9.0)\n",
      "Requirement already satisfied: kubernetes>=28.1.0 in c:\\users\\subommas\\llm_projects\\hrbot\\venv\\lib\\site-packages (from chromadb<0.5.0,>=0.4.22->llama-index-vector-stores-chroma) (29.0.0)\n",
      "Requirement already satisfied: tenacity>=8.2.3 in c:\\users\\subommas\\llm_projects\\hrbot\\venv\\lib\\site-packages (from chromadb<0.5.0,>=0.4.22->llama-index-vector-stores-chroma) (8.2.3)\n",
      "Requirement already satisfied: PyYAML>=6.0.0 in c:\\users\\subommas\\llm_projects\\hrbot\\venv\\lib\\site-packages (from chromadb<0.5.0,>=0.4.22->llama-index-vector-stores-chroma) (6.0.1)\n",
      "Requirement already satisfied: mmh3>=4.0.1 in c:\\users\\subommas\\llm_projects\\hrbot\\venv\\lib\\site-packages (from chromadb<0.5.0,>=0.4.22->llama-index-vector-stores-chroma) (4.1.0)\n",
      "Requirement already satisfied: SQLAlchemy>=1.4.49 in c:\\users\\subommas\\llm_projects\\hrbot\\venv\\lib\\site-packages (from SQLAlchemy[asyncio]>=1.4.49->llama-index-core<0.11.0,>=0.10.1->llama-index-vector-stores-chroma) (2.0.27)\n",
      "Requirement already satisfied: aiohttp<4.0.0,>=3.8.6 in c:\\users\\subommas\\llm_projects\\hrbot\\venv\\lib\\site-packages (from llama-index-core<0.11.0,>=0.10.1->llama-index-vector-stores-chroma) (3.9.3)\n",
      "Requirement already satisfied: dataclasses-json in c:\\users\\subommas\\llm_projects\\hrbot\\venv\\lib\\site-packages (from llama-index-core<0.11.0,>=0.10.1->llama-index-vector-stores-chroma) (0.6.4)\n",
      "Requirement already satisfied: deprecated>=1.2.9.3 in c:\\users\\subommas\\llm_projects\\hrbot\\venv\\lib\\site-packages (from llama-index-core<0.11.0,>=0.10.1->llama-index-vector-stores-chroma) (1.2.14)\n",
      "Requirement already satisfied: dirtyjson<2.0.0,>=1.0.8 in c:\\users\\subommas\\llm_projects\\hrbot\\venv\\lib\\site-packages (from llama-index-core<0.11.0,>=0.10.1->llama-index-vector-stores-chroma) (1.0.8)\n",
      "Requirement already satisfied: fsspec>=2023.5.0 in c:\\users\\subommas\\llm_projects\\hrbot\\venv\\lib\\site-packages (from llama-index-core<0.11.0,>=0.10.1->llama-index-vector-stores-chroma) (2024.2.0)\n",
      "Requirement already satisfied: httpx in c:\\users\\subommas\\llm_projects\\hrbot\\venv\\lib\\site-packages (from llama-index-core<0.11.0,>=0.10.1->llama-index-vector-stores-chroma) (0.26.0)\n",
      "Requirement already satisfied: nest-asyncio<2.0.0,>=1.5.8 in c:\\users\\subommas\\llm_projects\\hrbot\\venv\\lib\\site-packages (from llama-index-core<0.11.0,>=0.10.1->llama-index-vector-stores-chroma) (1.6.0)\n",
      "Requirement already satisfied: networkx>=3.0 in c:\\users\\subommas\\llm_projects\\hrbot\\venv\\lib\\site-packages (from llama-index-core<0.11.0,>=0.10.1->llama-index-vector-stores-chroma) (3.2.1)\n",
      "Requirement already satisfied: nltk<4.0.0,>=3.8.1 in c:\\users\\subommas\\llm_projects\\hrbot\\venv\\lib\\site-packages (from llama-index-core<0.11.0,>=0.10.1->llama-index-vector-stores-chroma) (3.8.1)\n",
      "Requirement already satisfied: openai>=1.1.0 in c:\\users\\subommas\\llm_projects\\hrbot\\venv\\lib\\site-packages (from llama-index-core<0.11.0,>=0.10.1->llama-index-vector-stores-chroma) (1.12.0)\n",
      "Requirement already satisfied: pandas in c:\\users\\subommas\\llm_projects\\hrbot\\venv\\lib\\site-packages (from llama-index-core<0.11.0,>=0.10.1->llama-index-vector-stores-chroma) (2.2.0)\n",
      "Requirement already satisfied: pillow>=9.0.0 in c:\\users\\subommas\\llm_projects\\hrbot\\venv\\lib\\site-packages (from llama-index-core<0.11.0,>=0.10.1->llama-index-vector-stores-chroma) (10.2.0)\n",
      "Requirement already satisfied: tiktoken>=0.3.3 in c:\\users\\subommas\\llm_projects\\hrbot\\venv\\lib\\site-packages (from llama-index-core<0.11.0,>=0.10.1->llama-index-vector-stores-chroma) (0.6.0)\n",
      "Requirement already satisfied: typing-inspect>=0.8.0 in c:\\users\\subommas\\llm_projects\\hrbot\\venv\\lib\\site-packages (from llama-index-core<0.11.0,>=0.10.1->llama-index-vector-stores-chroma) (0.9.0)\n",
      "Requirement already satisfied: coloredlogs in c:\\users\\subommas\\llm_projects\\hrbot\\venv\\lib\\site-packages (from onnxruntime<2.0.0,>=1.17.0->llama-index-vector-stores-chroma) (15.0.1)\n",
      "Requirement already satisfied: flatbuffers in c:\\users\\subommas\\llm_projects\\hrbot\\venv\\lib\\site-packages (from onnxruntime<2.0.0,>=1.17.0->llama-index-vector-stores-chroma) (23.5.26)\n",
      "Requirement already satisfied: packaging in c:\\users\\subommas\\llm_projects\\hrbot\\venv\\lib\\site-packages (from onnxruntime<2.0.0,>=1.17.0->llama-index-vector-stores-chroma) (23.2)\n",
      "Requirement already satisfied: protobuf in c:\\users\\subommas\\llm_projects\\hrbot\\venv\\lib\\site-packages (from onnxruntime<2.0.0,>=1.17.0->llama-index-vector-stores-chroma) (4.25.2)\n",
      "Requirement already satisfied: sympy in c:\\users\\subommas\\llm_projects\\hrbot\\venv\\lib\\site-packages (from onnxruntime<2.0.0,>=1.17.0->llama-index-vector-stores-chroma) (1.12)\n",
      "Requirement already satisfied: huggingface_hub<1.0,>=0.16.4 in c:\\users\\subommas\\llm_projects\\hrbot\\venv\\lib\\site-packages (from tokenizers<0.16.0,>=0.15.1->llama-index-vector-stores-chroma) (0.20.3)\n",
      "Requirement already satisfied: aiosignal>=1.1.2 in c:\\users\\subommas\\llm_projects\\hrbot\\venv\\lib\\site-packages (from aiohttp<4.0.0,>=3.8.6->llama-index-core<0.11.0,>=0.10.1->llama-index-vector-stores-chroma) (1.3.1)\n",
      "Requirement already satisfied: attrs>=17.3.0 in c:\\users\\subommas\\llm_projects\\hrbot\\venv\\lib\\site-packages (from aiohttp<4.0.0,>=3.8.6->llama-index-core<0.11.0,>=0.10.1->llama-index-vector-stores-chroma) (23.2.0)\n",
      "Requirement already satisfied: frozenlist>=1.1.1 in c:\\users\\subommas\\llm_projects\\hrbot\\venv\\lib\\site-packages (from aiohttp<4.0.0,>=3.8.6->llama-index-core<0.11.0,>=0.10.1->llama-index-vector-stores-chroma) (1.4.1)\n",
      "Requirement already satisfied: multidict<7.0,>=4.5 in c:\\users\\subommas\\llm_projects\\hrbot\\venv\\lib\\site-packages (from aiohttp<4.0.0,>=3.8.6->llama-index-core<0.11.0,>=0.10.1->llama-index-vector-stores-chroma) (6.0.5)\n",
      "Requirement already satisfied: yarl<2.0,>=1.0 in c:\\users\\subommas\\llm_projects\\hrbot\\venv\\lib\\site-packages (from aiohttp<4.0.0,>=3.8.6->llama-index-core<0.11.0,>=0.10.1->llama-index-vector-stores-chroma) (1.9.4)\n",
      "Requirement already satisfied: async-timeout<5.0,>=4.0 in c:\\users\\subommas\\llm_projects\\hrbot\\venv\\lib\\site-packages (from aiohttp<4.0.0,>=3.8.6->llama-index-core<0.11.0,>=0.10.1->llama-index-vector-stores-chroma) (4.0.3)\n",
      "Requirement already satisfied: pyproject_hooks in c:\\users\\subommas\\llm_projects\\hrbot\\venv\\lib\\site-packages (from build>=1.0.3->chromadb<0.5.0,>=0.4.22->llama-index-vector-stores-chroma) (1.0.0)\n",
      "Requirement already satisfied: colorama in c:\\users\\subommas\\llm_projects\\hrbot\\venv\\lib\\site-packages (from build>=1.0.3->chromadb<0.5.0,>=0.4.22->llama-index-vector-stores-chroma) (0.4.6)\n",
      "Requirement already satisfied: tomli>=1.1.0 in c:\\users\\subommas\\llm_projects\\hrbot\\venv\\lib\\site-packages (from build>=1.0.3->chromadb<0.5.0,>=0.4.22->llama-index-vector-stores-chroma) (2.0.1)\n",
      "Requirement already satisfied: wrapt<2,>=1.10 in c:\\users\\subommas\\llm_projects\\hrbot\\venv\\lib\\site-packages (from deprecated>=1.2.9.3->llama-index-core<0.11.0,>=0.10.1->llama-index-vector-stores-chroma) (1.16.0)\n",
      "Requirement already satisfied: starlette<0.37.0,>=0.36.3 in c:\\users\\subommas\\llm_projects\\hrbot\\venv\\lib\\site-packages (from fastapi>=0.95.2->chromadb<0.5.0,>=0.4.22->llama-index-vector-stores-chroma) (0.36.3)\n",
      "Requirement already satisfied: filelock in c:\\users\\subommas\\llm_projects\\hrbot\\venv\\lib\\site-packages (from huggingface_hub<1.0,>=0.16.4->tokenizers<0.16.0,>=0.15.1->llama-index-vector-stores-chroma) (3.13.1)\n",
      "Requirement already satisfied: certifi>=14.05.14 in c:\\users\\subommas\\llm_projects\\hrbot\\venv\\lib\\site-packages (from kubernetes>=28.1.0->chromadb<0.5.0,>=0.4.22->llama-index-vector-stores-chroma) (2024.2.2)\n",
      "Requirement already satisfied: six>=1.9.0 in c:\\users\\subommas\\llm_projects\\hrbot\\venv\\lib\\site-packages (from kubernetes>=28.1.0->chromadb<0.5.0,>=0.4.22->llama-index-vector-stores-chroma) (1.16.0)\n",
      "Requirement already satisfied: python-dateutil>=2.5.3 in c:\\users\\subommas\\llm_projects\\hrbot\\venv\\lib\\site-packages (from kubernetes>=28.1.0->chromadb<0.5.0,>=0.4.22->llama-index-vector-stores-chroma) (2.8.2)\n",
      "Requirement already satisfied: google-auth>=1.0.1 in c:\\users\\subommas\\llm_projects\\hrbot\\venv\\lib\\site-packages (from kubernetes>=28.1.0->chromadb<0.5.0,>=0.4.22->llama-index-vector-stores-chroma) (2.27.0)\n",
      "Requirement already satisfied: websocket-client!=0.40.0,!=0.41.*,!=0.42.*,>=0.32.0 in c:\\users\\subommas\\llm_projects\\hrbot\\venv\\lib\\site-packages (from kubernetes>=28.1.0->chromadb<0.5.0,>=0.4.22->llama-index-vector-stores-chroma) (1.7.0)\n",
      "Requirement already satisfied: requests-oauthlib in c:\\users\\subommas\\llm_projects\\hrbot\\venv\\lib\\site-packages (from kubernetes>=28.1.0->chromadb<0.5.0,>=0.4.22->llama-index-vector-stores-chroma) (1.3.1)\n",
      "Requirement already satisfied: oauthlib>=3.2.2 in c:\\users\\subommas\\llm_projects\\hrbot\\venv\\lib\\site-packages (from kubernetes>=28.1.0->chromadb<0.5.0,>=0.4.22->llama-index-vector-stores-chroma) (3.2.2)\n",
      "Requirement already satisfied: urllib3>=1.24.2 in c:\\users\\subommas\\llm_projects\\hrbot\\venv\\lib\\site-packages (from kubernetes>=28.1.0->chromadb<0.5.0,>=0.4.22->llama-index-vector-stores-chroma) (2.2.0)\n",
      "Requirement already satisfied: click in c:\\users\\subommas\\llm_projects\\hrbot\\venv\\lib\\site-packages (from nltk<4.0.0,>=3.8.1->llama-index-core<0.11.0,>=0.10.1->llama-index-vector-stores-chroma) (8.1.7)\n",
      "Requirement already satisfied: joblib in c:\\users\\subommas\\llm_projects\\hrbot\\venv\\lib\\site-packages (from nltk<4.0.0,>=3.8.1->llama-index-core<0.11.0,>=0.10.1->llama-index-vector-stores-chroma) (1.3.2)\n",
      "Requirement already satisfied: regex>=2021.8.3 in c:\\users\\subommas\\llm_projects\\hrbot\\venv\\lib\\site-packages (from nltk<4.0.0,>=3.8.1->llama-index-core<0.11.0,>=0.10.1->llama-index-vector-stores-chroma) (2023.12.25)\n",
      "Requirement already satisfied: anyio<5,>=3.5.0 in c:\\users\\subommas\\llm_projects\\hrbot\\venv\\lib\\site-packages (from openai>=1.1.0->llama-index-core<0.11.0,>=0.10.1->llama-index-vector-stores-chroma) (4.2.0)\n",
      "Requirement already satisfied: distro<2,>=1.7.0 in c:\\users\\subommas\\llm_projects\\hrbot\\venv\\lib\\site-packages (from openai>=1.1.0->llama-index-core<0.11.0,>=0.10.1->llama-index-vector-stores-chroma) (1.9.0)\n",
      "Requirement already satisfied: sniffio in c:\\users\\subommas\\llm_projects\\hrbot\\venv\\lib\\site-packages (from openai>=1.1.0->llama-index-core<0.11.0,>=0.10.1->llama-index-vector-stores-chroma) (1.3.0)\n",
      "Requirement already satisfied: httpcore==1.* in c:\\users\\subommas\\llm_projects\\hrbot\\venv\\lib\\site-packages (from httpx->llama-index-core<0.11.0,>=0.10.1->llama-index-vector-stores-chroma) (1.0.2)\n",
      "Requirement already satisfied: idna in c:\\users\\subommas\\llm_projects\\hrbot\\venv\\lib\\site-packages (from httpx->llama-index-core<0.11.0,>=0.10.1->llama-index-vector-stores-chroma) (3.6)\n",
      "Requirement already satisfied: h11<0.15,>=0.13 in c:\\users\\subommas\\llm_projects\\hrbot\\venv\\lib\\site-packages (from httpcore==1.*->httpx->llama-index-core<0.11.0,>=0.10.1->llama-index-vector-stores-chroma) (0.14.0)\n",
      "Requirement already satisfied: importlib-metadata<7.0,>=6.0 in c:\\users\\subommas\\llm_projects\\hrbot\\venv\\lib\\site-packages (from opentelemetry-api>=1.2.0->chromadb<0.5.0,>=0.4.22->llama-index-vector-stores-chroma) (6.11.0)\n",
      "Requirement already satisfied: backoff<3.0.0,>=1.10.0 in c:\\users\\subommas\\llm_projects\\hrbot\\venv\\lib\\site-packages (from opentelemetry-exporter-otlp-proto-grpc>=1.2.0->chromadb<0.5.0,>=0.4.22->llama-index-vector-stores-chroma) (2.2.1)\n",
      "Requirement already satisfied: googleapis-common-protos~=1.52 in c:\\users\\subommas\\llm_projects\\hrbot\\venv\\lib\\site-packages (from opentelemetry-exporter-otlp-proto-grpc>=1.2.0->chromadb<0.5.0,>=0.4.22->llama-index-vector-stores-chroma) (1.62.0)\n",
      "Requirement already satisfied: opentelemetry-exporter-otlp-proto-common==1.22.0 in c:\\users\\subommas\\llm_projects\\hrbot\\venv\\lib\\site-packages (from opentelemetry-exporter-otlp-proto-grpc>=1.2.0->chromadb<0.5.0,>=0.4.22->llama-index-vector-stores-chroma) (1.22.0)\n",
      "Requirement already satisfied: opentelemetry-proto==1.22.0 in c:\\users\\subommas\\llm_projects\\hrbot\\venv\\lib\\site-packages (from opentelemetry-exporter-otlp-proto-grpc>=1.2.0->chromadb<0.5.0,>=0.4.22->llama-index-vector-stores-chroma) (1.22.0)\n",
      "Requirement already satisfied: opentelemetry-instrumentation-asgi==0.43b0 in c:\\users\\subommas\\llm_projects\\hrbot\\venv\\lib\\site-packages (from opentelemetry-instrumentation-fastapi>=0.41b0->chromadb<0.5.0,>=0.4.22->llama-index-vector-stores-chroma) (0.43b0)\n",
      "Requirement already satisfied: opentelemetry-instrumentation==0.43b0 in c:\\users\\subommas\\llm_projects\\hrbot\\venv\\lib\\site-packages (from opentelemetry-instrumentation-fastapi>=0.41b0->chromadb<0.5.0,>=0.4.22->llama-index-vector-stores-chroma) (0.43b0)\n",
      "Requirement already satisfied: opentelemetry-semantic-conventions==0.43b0 in c:\\users\\subommas\\llm_projects\\hrbot\\venv\\lib\\site-packages (from opentelemetry-instrumentation-fastapi>=0.41b0->chromadb<0.5.0,>=0.4.22->llama-index-vector-stores-chroma) (0.43b0)\n",
      "Requirement already satisfied: opentelemetry-util-http==0.43b0 in c:\\users\\subommas\\llm_projects\\hrbot\\venv\\lib\\site-packages (from opentelemetry-instrumentation-fastapi>=0.41b0->chromadb<0.5.0,>=0.4.22->llama-index-vector-stores-chroma) (0.43b0)\n",
      "Requirement already satisfied: setuptools>=16.0 in c:\\users\\subommas\\llm_projects\\hrbot\\venv\\lib\\site-packages (from opentelemetry-instrumentation==0.43b0->opentelemetry-instrumentation-fastapi>=0.41b0->chromadb<0.5.0,>=0.4.22->llama-index-vector-stores-chroma) (68.2.2)\n",
      "Requirement already satisfied: asgiref~=3.0 in c:\\users\\subommas\\llm_projects\\hrbot\\venv\\lib\\site-packages (from opentelemetry-instrumentation-asgi==0.43b0->opentelemetry-instrumentation-fastapi>=0.41b0->chromadb<0.5.0,>=0.4.22->llama-index-vector-stores-chroma) (3.7.2)\n",
      "Requirement already satisfied: monotonic>=1.5 in c:\\users\\subommas\\llm_projects\\hrbot\\venv\\lib\\site-packages (from posthog>=2.4.0->chromadb<0.5.0,>=0.4.22->llama-index-vector-stores-chroma) (1.6)\n",
      "Requirement already satisfied: charset-normalizer<4,>=2 in c:\\users\\subommas\\llm_projects\\hrbot\\venv\\lib\\site-packages (from requests>=2.28->chromadb<0.5.0,>=0.4.22->llama-index-vector-stores-chroma) (3.3.2)\n",
      "Requirement already satisfied: greenlet!=0.4.17 in c:\\users\\subommas\\llm_projects\\hrbot\\venv\\lib\\site-packages (from SQLAlchemy>=1.4.49->SQLAlchemy[asyncio]>=1.4.49->llama-index-core<0.11.0,>=0.10.1->llama-index-vector-stores-chroma) (3.0.3)\n",
      "Requirement already satisfied: mypy-extensions>=0.3.0 in c:\\users\\subommas\\llm_projects\\hrbot\\venv\\lib\\site-packages (from typing-inspect>=0.8.0->llama-index-core<0.11.0,>=0.10.1->llama-index-vector-stores-chroma) (1.0.0)\n",
      "Requirement already satisfied: httptools>=0.5.0 in c:\\users\\subommas\\llm_projects\\hrbot\\venv\\lib\\site-packages (from uvicorn[standard]>=0.18.3->chromadb<0.5.0,>=0.4.22->llama-index-vector-stores-chroma) (0.6.1)\n",
      "Requirement already satisfied: python-dotenv>=0.13 in c:\\users\\subommas\\llm_projects\\hrbot\\venv\\lib\\site-packages (from uvicorn[standard]>=0.18.3->chromadb<0.5.0,>=0.4.22->llama-index-vector-stores-chroma) (1.0.1)\n",
      "Requirement already satisfied: watchfiles>=0.13 in c:\\users\\subommas\\llm_projects\\hrbot\\venv\\lib\\site-packages (from uvicorn[standard]>=0.18.3->chromadb<0.5.0,>=0.4.22->llama-index-vector-stores-chroma) (0.21.0)\n",
      "Requirement already satisfied: websockets>=10.4 in c:\\users\\subommas\\llm_projects\\hrbot\\venv\\lib\\site-packages (from uvicorn[standard]>=0.18.3->chromadb<0.5.0,>=0.4.22->llama-index-vector-stores-chroma) (12.0)\n",
      "Requirement already satisfied: humanfriendly>=9.1 in c:\\users\\subommas\\llm_projects\\hrbot\\venv\\lib\\site-packages (from coloredlogs->onnxruntime<2.0.0,>=1.17.0->llama-index-vector-stores-chroma) (10.0)\n",
      "Requirement already satisfied: marshmallow<4.0.0,>=3.18.0 in c:\\users\\subommas\\llm_projects\\hrbot\\venv\\lib\\site-packages (from dataclasses-json->llama-index-core<0.11.0,>=0.10.1->llama-index-vector-stores-chroma) (3.20.2)\n",
      "Requirement already satisfied: pytz>=2020.1 in c:\\users\\subommas\\llm_projects\\hrbot\\venv\\lib\\site-packages (from pandas->llama-index-core<0.11.0,>=0.10.1->llama-index-vector-stores-chroma) (2024.1)\n",
      "Requirement already satisfied: tzdata>=2022.7 in c:\\users\\subommas\\llm_projects\\hrbot\\venv\\lib\\site-packages (from pandas->llama-index-core<0.11.0,>=0.10.1->llama-index-vector-stores-chroma) (2024.1)\n",
      "Requirement already satisfied: mpmath>=0.19 in c:\\users\\subommas\\llm_projects\\hrbot\\venv\\lib\\site-packages (from sympy->onnxruntime<2.0.0,>=1.17.0->llama-index-vector-stores-chroma) (1.3.0)\n",
      "Requirement already satisfied: exceptiongroup>=1.0.2 in c:\\users\\subommas\\llm_projects\\hrbot\\venv\\lib\\site-packages (from anyio<5,>=3.5.0->openai>=1.1.0->llama-index-core<0.11.0,>=0.10.1->llama-index-vector-stores-chroma) (1.2.0)\n",
      "Requirement already satisfied: cachetools<6.0,>=2.0.0 in c:\\users\\subommas\\llm_projects\\hrbot\\venv\\lib\\site-packages (from google-auth>=1.0.1->kubernetes>=28.1.0->chromadb<0.5.0,>=0.4.22->llama-index-vector-stores-chroma) (5.3.2)\n",
      "Requirement already satisfied: pyasn1-modules>=0.2.1 in c:\\users\\subommas\\llm_projects\\hrbot\\venv\\lib\\site-packages (from google-auth>=1.0.1->kubernetes>=28.1.0->chromadb<0.5.0,>=0.4.22->llama-index-vector-stores-chroma) (0.3.0)\n",
      "Requirement already satisfied: rsa<5,>=3.1.4 in c:\\users\\subommas\\llm_projects\\hrbot\\venv\\lib\\site-packages (from google-auth>=1.0.1->kubernetes>=28.1.0->chromadb<0.5.0,>=0.4.22->llama-index-vector-stores-chroma) (4.9)\n",
      "Requirement already satisfied: pyreadline3 in c:\\users\\subommas\\llm_projects\\hrbot\\venv\\lib\\site-packages (from humanfriendly>=9.1->coloredlogs->onnxruntime<2.0.0,>=1.17.0->llama-index-vector-stores-chroma) (3.4.1)\n",
      "Requirement already satisfied: zipp>=0.5 in c:\\users\\subommas\\llm_projects\\hrbot\\venv\\lib\\site-packages (from importlib-metadata<7.0,>=6.0->opentelemetry-api>=1.2.0->chromadb<0.5.0,>=0.4.22->llama-index-vector-stores-chroma) (3.17.0)\n",
      "Requirement already satisfied: pyasn1<0.6.0,>=0.4.6 in c:\\users\\subommas\\llm_projects\\hrbot\\venv\\lib\\site-packages (from pyasn1-modules>=0.2.1->google-auth>=1.0.1->kubernetes>=28.1.0->chromadb<0.5.0,>=0.4.22->llama-index-vector-stores-chroma) (0.5.1)\n",
      "Note: you may need to restart the kernel to use updated packages.\n"
     ]
    }
   ],
   "source": [
    "%pip install llama-index-embeddings-gemini\n",
    "%pip install llama-index-vector-stores-chroma\n"
   ]
  },
  {
   "cell_type": "code",
   "execution_count": 65,
   "metadata": {},
   "outputs": [],
   "source": [
    "from llama_index.embeddings.gemini import GeminiEmbedding"
   ]
  },
  {
   "cell_type": "code",
   "execution_count": 66,
   "metadata": {},
   "outputs": [
    {
     "name": "stdout",
     "output_type": "stream",
     "text": [
      "Note: you may need to restart the kernel to use updated packages.\n",
      "Requirement already satisfied: chromadb in c:\\users\\subommas\\llm_projects\\hrbot\\venv\\lib\\site-packages (0.4.22)Note: you may need to restart the kernel to use updated packages.\n",
      "\n",
      "Requirement already satisfied: build>=1.0.3 in c:\\users\\subommas\\llm_projects\\hrbot\\venv\\lib\\site-packages (from chromadb) (1.0.3)\n",
      "Requirement already satisfied: requests>=2.28 in c:\\users\\subommas\\llm_projects\\hrbot\\venv\\lib\\site-packages (from chromadb) (2.31.0)\n",
      "Requirement already satisfied: pydantic>=1.9 in c:\\users\\subommas\\llm_projects\\hrbot\\venv\\lib\\site-packages (from chromadb) (1.10.11)\n",
      "Requirement already satisfied: chroma-hnswlib==0.7.3 in c:\\users\\subommas\\llm_projects\\hrbot\\venv\\lib\\site-packages (from chromadb) (0.7.3)\n",
      "Requirement already satisfied: fastapi>=0.95.2 in c:\\users\\subommas\\llm_projects\\hrbot\\venv\\lib\\site-packages (from chromadb) (0.109.2)\n",
      "Requirement already satisfied: uvicorn>=0.18.3 in c:\\users\\subommas\\llm_projects\\hrbot\\venv\\lib\\site-packages (from uvicorn[standard]>=0.18.3->chromadb) (0.27.1)\n",
      "Requirement already satisfied: numpy>=1.22.5 in c:\\users\\subommas\\llm_projects\\hrbot\\venv\\lib\\site-packages (from chromadb) (1.26.4)\n",
      "Requirement already satisfied: posthog>=2.4.0 in c:\\users\\subommas\\llm_projects\\hrbot\\venv\\lib\\site-packages (from chromadb) (3.4.1)\n",
      "Requirement already satisfied: typing-extensions>=4.5.0 in c:\\users\\subommas\\llm_projects\\hrbot\\venv\\lib\\site-packages (from chromadb) (4.9.0)\n",
      "Requirement already satisfied: pulsar-client>=3.1.0 in c:\\users\\subommas\\llm_projects\\hrbot\\venv\\lib\\site-packages (from chromadb) (3.4.0)\n",
      "Requirement already satisfied: onnxruntime>=1.14.1 in c:\\users\\subommas\\llm_projects\\hrbot\\venv\\lib\\site-packages (from chromadb) (1.17.0)\n",
      "Requirement already satisfied: opentelemetry-api>=1.2.0 in c:\\users\\subommas\\llm_projects\\hrbot\\venv\\lib\\site-packages (from chromadb) (1.22.0)\n",
      "Requirement already satisfied: opentelemetry-exporter-otlp-proto-grpc>=1.2.0 in c:\\users\\subommas\\llm_projects\\hrbot\\venv\\lib\\site-packages (from chromadb) (1.22.0)\n",
      "Requirement already satisfied: opentelemetry-instrumentation-fastapi>=0.41b0 in c:\\users\\subommas\\llm_projects\\hrbot\\venv\\lib\\site-packages (from chromadb) (0.43b0)\n",
      "Requirement already satisfied: opentelemetry-sdk>=1.2.0 in c:\\users\\subommas\\llm_projects\\hrbot\\venv\\lib\\site-packages (from chromadb) (1.22.0)\n",
      "Requirement already satisfied: tokenizers>=0.13.2 in c:\\users\\subommas\\llm_projects\\hrbot\\venv\\lib\\site-packages (from chromadb) (0.15.2)\n",
      "Requirement already satisfied: pypika>=0.48.9 in c:\\users\\subommas\\llm_projects\\hrbot\\venv\\lib\\site-packages (from chromadb) (0.48.9)\n",
      "Requirement already satisfied: tqdm>=4.65.0 in c:\\users\\subommas\\llm_projects\\hrbot\\venv\\lib\\site-packages (from chromadb) (4.66.2)\n",
      "Requirement already satisfied: overrides>=7.3.1 in c:\\users\\subommas\\llm_projects\\hrbot\\venv\\lib\\site-packages (from chromadb) (7.7.0)\n",
      "Requirement already satisfied: importlib-resources in c:\\users\\subommas\\llm_projects\\hrbot\\venv\\lib\\site-packages (from chromadb) (6.1.1)\n",
      "Requirement already satisfied: grpcio>=1.58.0 in c:\\users\\subommas\\llm_projects\\hrbot\\venv\\lib\\site-packages (from chromadb) (1.60.1)\n",
      "Requirement already satisfied: bcrypt>=4.0.1 in c:\\users\\subommas\\llm_projects\\hrbot\\venv\\lib\\site-packages (from chromadb) (4.1.2)\n",
      "Requirement already satisfied: typer>=0.9.0 in c:\\users\\subommas\\llm_projects\\hrbot\\venv\\lib\\site-packages (from chromadb) (0.9.0)\n",
      "Requirement already satisfied: kubernetes>=28.1.0 in c:\\users\\subommas\\llm_projects\\hrbot\\venv\\lib\\site-packages (from chromadb) (29.0.0)\n",
      "Requirement already satisfied: tenacity>=8.2.3 in c:\\users\\subommas\\llm_projects\\hrbot\\venv\\lib\\site-packages (from chromadb) (8.2.3)\n",
      "Requirement already satisfied: PyYAML>=6.0.0 in c:\\users\\subommas\\llm_projects\\hrbot\\venv\\lib\\site-packages (from chromadb) (6.0.1)\n",
      "Requirement already satisfied: mmh3>=4.0.1 in c:\\users\\subommas\\llm_projects\\hrbot\\venv\\lib\\site-packages (from chromadb) (4.1.0)\n",
      "Requirement already satisfied: packaging>=19.0 in c:\\users\\subommas\\llm_projects\\hrbot\\venv\\lib\\site-packages (from build>=1.0.3->chromadb) (23.2)\n",
      "Requirement already satisfied: pyproject_hooks in c:\\users\\subommas\\llm_projects\\hrbot\\venv\\lib\\site-packages (from build>=1.0.3->chromadb) (1.0.0)\n",
      "Requirement already satisfied: colorama in c:\\users\\subommas\\llm_projects\\hrbot\\venv\\lib\\site-packages (from build>=1.0.3->chromadb) (0.4.6)\n",
      "Requirement already satisfied: tomli>=1.1.0 in c:\\users\\subommas\\llm_projects\\hrbot\\venv\\lib\\site-packages (from build>=1.0.3->chromadb) (2.0.1)\n",
      "Requirement already satisfied: starlette<0.37.0,>=0.36.3 in c:\\users\\subommas\\llm_projects\\hrbot\\venv\\lib\\site-packages (from fastapi>=0.95.2->chromadb) (0.36.3)\n",
      "Requirement already satisfied: certifi>=14.05.14 in c:\\users\\subommas\\llm_projects\\hrbot\\venv\\lib\\site-packages (from kubernetes>=28.1.0->chromadb) (2024.2.2)\n",
      "Requirement already satisfied: six>=1.9.0 in c:\\users\\subommas\\llm_projects\\hrbot\\venv\\lib\\site-packages (from kubernetes>=28.1.0->chromadb) (1.16.0)\n",
      "Requirement already satisfied: python-dateutil>=2.5.3 in c:\\users\\subommas\\llm_projects\\hrbot\\venv\\lib\\site-packages (from kubernetes>=28.1.0->chromadb) (2.8.2)\n",
      "Requirement already satisfied: google-auth>=1.0.1 in c:\\users\\subommas\\llm_projects\\hrbot\\venv\\lib\\site-packages (from kubernetes>=28.1.0->chromadb) (2.27.0)\n",
      "Requirement already satisfied: websocket-client!=0.40.0,!=0.41.*,!=0.42.*,>=0.32.0 in c:\\users\\subommas\\llm_projects\\hrbot\\venv\\lib\\site-packages (from kubernetes>=28.1.0->chromadb) (1.7.0)\n",
      "Requirement already satisfied: requests-oauthlib in c:\\users\\subommas\\llm_projects\\hrbot\\venv\\lib\\site-packages (from kubernetes>=28.1.0->chromadb) (1.3.1)\n",
      "Requirement already satisfied: oauthlib>=3.2.2 in c:\\users\\subommas\\llm_projects\\hrbot\\venv\\lib\\site-packages (from kubernetes>=28.1.0->chromadb) (3.2.2)\n",
      "Requirement already satisfied: urllib3>=1.24.2 in c:\\users\\subommas\\llm_projects\\hrbot\\venv\\lib\\site-packages (from kubernetes>=28.1.0->chromadb) (2.2.0)\n",
      "Requirement already satisfied: coloredlogs in c:\\users\\subommas\\llm_projects\\hrbot\\venv\\lib\\site-packages (from onnxruntime>=1.14.1->chromadb) (15.0.1)\n",
      "Requirement already satisfied: flatbuffers in c:\\users\\subommas\\llm_projects\\hrbot\\venv\\lib\\site-packages (from onnxruntime>=1.14.1->chromadb) (23.5.26)\n",
      "Requirement already satisfied: protobuf in c:\\users\\subommas\\llm_projects\\hrbot\\venv\\lib\\site-packages (from onnxruntime>=1.14.1->chromadb) (4.25.2)\n",
      "Requirement already satisfied: sympy in c:\\users\\subommas\\llm_projects\\hrbot\\venv\\lib\\site-packages (from onnxruntime>=1.14.1->chromadb) (1.12)\n",
      "Requirement already satisfied: deprecated>=1.2.6 in c:\\users\\subommas\\llm_projects\\hrbot\\venv\\lib\\site-packages (from opentelemetry-api>=1.2.0->chromadb) (1.2.14)\n",
      "Requirement already satisfied: importlib-metadata<7.0,>=6.0 in c:\\users\\subommas\\llm_projects\\hrbot\\venv\\lib\\site-packages (from opentelemetry-api>=1.2.0->chromadb) (6.11.0)\n",
      "Requirement already satisfied: backoff<3.0.0,>=1.10.0 in c:\\users\\subommas\\llm_projects\\hrbot\\venv\\lib\\site-packages (from opentelemetry-exporter-otlp-proto-grpc>=1.2.0->chromadb) (2.2.1)\n",
      "Requirement already satisfied: googleapis-common-protos~=1.52 in c:\\users\\subommas\\llm_projects\\hrbot\\venv\\lib\\site-packages (from opentelemetry-exporter-otlp-proto-grpc>=1.2.0->chromadb) (1.62.0)\n",
      "Requirement already satisfied: opentelemetry-exporter-otlp-proto-common==1.22.0 in c:\\users\\subommas\\llm_projects\\hrbot\\venv\\lib\\site-packages (from opentelemetry-exporter-otlp-proto-grpc>=1.2.0->chromadb) (1.22.0)\n",
      "Requirement already satisfied: opentelemetry-proto==1.22.0 in c:\\users\\subommas\\llm_projects\\hrbot\\venv\\lib\\site-packages (from opentelemetry-exporter-otlp-proto-grpc>=1.2.0->chromadb) (1.22.0)\n",
      "Requirement already satisfied: opentelemetry-instrumentation-asgi==0.43b0 in c:\\users\\subommas\\llm_projects\\hrbot\\venv\\lib\\site-packages (from opentelemetry-instrumentation-fastapi>=0.41b0->chromadb) (0.43b0)\n",
      "Requirement already satisfied: opentelemetry-instrumentation==0.43b0 in c:\\users\\subommas\\llm_projects\\hrbot\\venv\\lib\\site-packages (from opentelemetry-instrumentation-fastapi>=0.41b0->chromadb) (0.43b0)\n",
      "Requirement already satisfied: opentelemetry-semantic-conventions==0.43b0 in c:\\users\\subommas\\llm_projects\\hrbot\\venv\\lib\\site-packages (from opentelemetry-instrumentation-fastapi>=0.41b0->chromadb) (0.43b0)\n",
      "Requirement already satisfied: opentelemetry-util-http==0.43b0 in c:\\users\\subommas\\llm_projects\\hrbot\\venv\\lib\\site-packages (from opentelemetry-instrumentation-fastapi>=0.41b0->chromadb) (0.43b0)\n",
      "Requirement already satisfied: setuptools>=16.0 in c:\\users\\subommas\\llm_projects\\hrbot\\venv\\lib\\site-packages (from opentelemetry-instrumentation==0.43b0->opentelemetry-instrumentation-fastapi>=0.41b0->chromadb) (68.2.2)\n",
      "Requirement already satisfied: wrapt<2.0.0,>=1.0.0 in c:\\users\\subommas\\llm_projects\\hrbot\\venv\\lib\\site-packages (from opentelemetry-instrumentation==0.43b0->opentelemetry-instrumentation-fastapi>=0.41b0->chromadb) (1.16.0)\n",
      "Requirement already satisfied: asgiref~=3.0 in c:\\users\\subommas\\llm_projects\\hrbot\\venv\\lib\\site-packages (from opentelemetry-instrumentation-asgi==0.43b0->opentelemetry-instrumentation-fastapi>=0.41b0->chromadb) (3.7.2)\n",
      "Requirement already satisfied: monotonic>=1.5 in c:\\users\\subommas\\llm_projects\\hrbot\\venv\\lib\\site-packages (from posthog>=2.4.0->chromadb) (1.6)\n",
      "Requirement already satisfied: charset-normalizer<4,>=2 in c:\\users\\subommas\\llm_projects\\hrbot\\venv\\lib\\site-packages (from requests>=2.28->chromadb) (3.3.2)\n",
      "Requirement already satisfied: idna<4,>=2.5 in c:\\users\\subommas\\llm_projects\\hrbot\\venv\\lib\\site-packages (from requests>=2.28->chromadb) (3.6)\n",
      "Requirement already satisfied: huggingface_hub<1.0,>=0.16.4 in c:\\users\\subommas\\llm_projects\\hrbot\\venv\\lib\\site-packages (from tokenizers>=0.13.2->chromadb) (0.20.3)\n",
      "Requirement already satisfied: click<9.0.0,>=7.1.1 in c:\\users\\subommas\\llm_projects\\hrbot\\venv\\lib\\site-packages (from typer>=0.9.0->chromadb) (8.1.7)\n",
      "Requirement already satisfied: h11>=0.8 in c:\\users\\subommas\\llm_projects\\hrbot\\venv\\lib\\site-packages (from uvicorn>=0.18.3->uvicorn[standard]>=0.18.3->chromadb) (0.14.0)\n",
      "Requirement already satisfied: httptools>=0.5.0 in c:\\users\\subommas\\llm_projects\\hrbot\\venv\\lib\\site-packages (from uvicorn[standard]>=0.18.3->chromadb) (0.6.1)\n",
      "Requirement already satisfied: python-dotenv>=0.13 in c:\\users\\subommas\\llm_projects\\hrbot\\venv\\lib\\site-packages (from uvicorn[standard]>=0.18.3->chromadb) (1.0.1)\n",
      "Requirement already satisfied: watchfiles>=0.13 in c:\\users\\subommas\\llm_projects\\hrbot\\venv\\lib\\site-packages (from uvicorn[standard]>=0.18.3->chromadb) (0.21.0)\n",
      "Requirement already satisfied: websockets>=10.4 in c:\\users\\subommas\\llm_projects\\hrbot\\venv\\lib\\site-packages (from uvicorn[standard]>=0.18.3->chromadb) (12.0)\n",
      "Requirement already satisfied: cachetools<6.0,>=2.0.0 in c:\\users\\subommas\\llm_projects\\hrbot\\venv\\lib\\site-packages (from google-auth>=1.0.1->kubernetes>=28.1.0->chromadb) (5.3.2)\n",
      "Requirement already satisfied: pyasn1-modules>=0.2.1 in c:\\users\\subommas\\llm_projects\\hrbot\\venv\\lib\\site-packages (from google-auth>=1.0.1->kubernetes>=28.1.0->chromadb) (0.3.0)\n",
      "Requirement already satisfied: rsa<5,>=3.1.4 in c:\\users\\subommas\\llm_projects\\hrbot\\venv\\lib\\site-packages (from google-auth>=1.0.1->kubernetes>=28.1.0->chromadb) (4.9)\n",
      "Requirement already satisfied: filelock in c:\\users\\subommas\\llm_projects\\hrbot\\venv\\lib\\site-packages (from huggingface_hub<1.0,>=0.16.4->tokenizers>=0.13.2->chromadb) (3.13.1)\n",
      "Requirement already satisfied: fsspec>=2023.5.0 in c:\\users\\subommas\\llm_projects\\hrbot\\venv\\lib\\site-packages (from huggingface_hub<1.0,>=0.16.4->tokenizers>=0.13.2->chromadb) (2024.2.0)\n",
      "Requirement already satisfied: zipp>=0.5 in c:\\users\\subommas\\llm_projects\\hrbot\\venv\\lib\\site-packages (from importlib-metadata<7.0,>=6.0->opentelemetry-api>=1.2.0->chromadb) (3.17.0)\n",
      "Requirement already satisfied: anyio<5,>=3.4.0 in c:\\users\\subommas\\llm_projects\\hrbot\\venv\\lib\\site-packages (from starlette<0.37.0,>=0.36.3->fastapi>=0.95.2->chromadb) (4.2.0)\n",
      "Requirement already satisfied: humanfriendly>=9.1 in c:\\users\\subommas\\llm_projects\\hrbot\\venv\\lib\\site-packages (from coloredlogs->onnxruntime>=1.14.1->chromadb) (10.0)\n",
      "Requirement already satisfied: mpmath>=0.19 in c:\\users\\subommas\\llm_projects\\hrbot\\venv\\lib\\site-packages (from sympy->onnxruntime>=1.14.1->chromadb) (1.3.0)\n",
      "Requirement already satisfied: sniffio>=1.1 in c:\\users\\subommas\\llm_projects\\hrbot\\venv\\lib\\site-packages (from anyio<5,>=3.4.0->starlette<0.37.0,>=0.36.3->fastapi>=0.95.2->chromadb) (1.3.0)\n",
      "Requirement already satisfied: exceptiongroup>=1.0.2 in c:\\users\\subommas\\llm_projects\\hrbot\\venv\\lib\\site-packages (from anyio<5,>=3.4.0->starlette<0.37.0,>=0.36.3->fastapi>=0.95.2->chromadb) (1.2.0)\n",
      "Requirement already satisfied: pyreadline3 in c:\\users\\subommas\\llm_projects\\hrbot\\venv\\lib\\site-packages (from humanfriendly>=9.1->coloredlogs->onnxruntime>=1.14.1->chromadb) (3.4.1)\n",
      "Requirement already satisfied: pyasn1<0.6.0,>=0.4.6 in c:\\users\\subommas\\llm_projects\\hrbot\\venv\\lib\\site-packages (from pyasn1-modules>=0.2.1->google-auth>=1.0.1->kubernetes>=28.1.0->chromadb) (0.5.1)\n",
      "Requirement already satisfied: sentence-transformers in c:\\users\\subommas\\llm_projects\\hrbot\\venv\\lib\\site-packages (2.3.1)\n",
      "Requirement already satisfied: transformers<5.0.0,>=4.32.0 in c:\\users\\subommas\\llm_projects\\hrbot\\venv\\lib\\site-packages (from sentence-transformers) (4.37.2)\n",
      "Requirement already satisfied: tqdm in c:\\users\\subommas\\llm_projects\\hrbot\\venv\\lib\\site-packages (from sentence-transformers) (4.66.2)\n",
      "Requirement already satisfied: torch>=1.11.0 in c:\\users\\subommas\\llm_projects\\hrbot\\venv\\lib\\site-packages (from sentence-transformers) (2.2.0)\n",
      "Requirement already satisfied: numpy in c:\\users\\subommas\\llm_projects\\hrbot\\venv\\lib\\site-packages (from sentence-transformers) (1.26.4)\n",
      "Requirement already satisfied: scikit-learn in c:\\users\\subommas\\llm_projects\\hrbot\\venv\\lib\\site-packages (from sentence-transformers) (1.4.0)\n",
      "Requirement already satisfied: scipy in c:\\users\\subommas\\llm_projects\\hrbot\\venv\\lib\\site-packages (from sentence-transformers) (1.12.0)\n",
      "Requirement already satisfied: nltk in c:\\users\\subommas\\llm_projects\\hrbot\\venv\\lib\\site-packages (from sentence-transformers) (3.8.1)\n",
      "Requirement already satisfied: sentencepiece in c:\\users\\subommas\\llm_projects\\hrbot\\venv\\lib\\site-packages (from sentence-transformers) (0.1.99)\n",
      "Requirement already satisfied: huggingface-hub>=0.15.1 in c:\\users\\subommas\\llm_projects\\hrbot\\venv\\lib\\site-packages (from sentence-transformers) (0.20.3)\n",
      "Requirement already satisfied: Pillow in c:\\users\\subommas\\llm_projects\\hrbot\\venv\\lib\\site-packages (from sentence-transformers) (10.2.0)\n",
      "Requirement already satisfied: filelock in c:\\users\\subommas\\llm_projects\\hrbot\\venv\\lib\\site-packages (from huggingface-hub>=0.15.1->sentence-transformers) (3.13.1)\n",
      "Requirement already satisfied: fsspec>=2023.5.0 in c:\\users\\subommas\\llm_projects\\hrbot\\venv\\lib\\site-packages (from huggingface-hub>=0.15.1->sentence-transformers) (2024.2.0)\n",
      "Requirement already satisfied: requests in c:\\users\\subommas\\llm_projects\\hrbot\\venv\\lib\\site-packages (from huggingface-hub>=0.15.1->sentence-transformers) (2.31.0)\n",
      "Requirement already satisfied: pyyaml>=5.1 in c:\\users\\subommas\\llm_projects\\hrbot\\venv\\lib\\site-packages (from huggingface-hub>=0.15.1->sentence-transformers) (6.0.1)\n",
      "Requirement already satisfied: typing-extensions>=3.7.4.3 in c:\\users\\subommas\\llm_projects\\hrbot\\venv\\lib\\site-packages (from huggingface-hub>=0.15.1->sentence-transformers) (4.9.0)\n",
      "Requirement already satisfied: packaging>=20.9 in c:\\users\\subommas\\llm_projects\\hrbot\\venv\\lib\\site-packages (from huggingface-hub>=0.15.1->sentence-transformers) (23.2)\n",
      "Requirement already satisfied: sympy in c:\\users\\subommas\\llm_projects\\hrbot\\venv\\lib\\site-packages (from torch>=1.11.0->sentence-transformers) (1.12)\n",
      "Requirement already satisfied: networkx in c:\\users\\subommas\\llm_projects\\hrbot\\venv\\lib\\site-packages (from torch>=1.11.0->sentence-transformers) (3.2.1)\n",
      "Requirement already satisfied: jinja2 in c:\\users\\subommas\\llm_projects\\hrbot\\venv\\lib\\site-packages (from torch>=1.11.0->sentence-transformers) (3.1.3)\n",
      "Requirement already satisfied: colorama in c:\\users\\subommas\\llm_projects\\hrbot\\venv\\lib\\site-packages (from tqdm->sentence-transformers) (0.4.6)\n",
      "Requirement already satisfied: regex!=2019.12.17 in c:\\users\\subommas\\llm_projects\\hrbot\\venv\\lib\\site-packages (from transformers<5.0.0,>=4.32.0->sentence-transformers) (2023.12.25)\n",
      "Requirement already satisfied: tokenizers<0.19,>=0.14 in c:\\users\\subommas\\llm_projects\\hrbot\\venv\\lib\\site-packages (from transformers<5.0.0,>=4.32.0->sentence-transformers) (0.15.2)\n",
      "Requirement already satisfied: safetensors>=0.4.1 in c:\\users\\subommas\\llm_projects\\hrbot\\venv\\lib\\site-packages (from transformers<5.0.0,>=4.32.0->sentence-transformers) (0.4.2)\n",
      "Requirement already satisfied: click in c:\\users\\subommas\\llm_projects\\hrbot\\venv\\lib\\site-packages (from nltk->sentence-transformers) (8.1.7)\n",
      "Requirement already satisfied: joblib in c:\\users\\subommas\\llm_projects\\hrbot\\venv\\lib\\site-packages (from nltk->sentence-transformers) (1.3.2)\n",
      "Requirement already satisfied: threadpoolctl>=2.0.0 in c:\\users\\subommas\\llm_projects\\hrbot\\venv\\lib\\site-packages (from scikit-learn->sentence-transformers) (3.2.0)\n",
      "Requirement already satisfied: MarkupSafe>=2.0 in c:\\users\\subommas\\llm_projects\\hrbot\\venv\\lib\\site-packages (from jinja2->torch>=1.11.0->sentence-transformers) (2.1.5)\n",
      "Requirement already satisfied: charset-normalizer<4,>=2 in c:\\users\\subommas\\llm_projects\\hrbot\\venv\\lib\\site-packages (from requests->huggingface-hub>=0.15.1->sentence-transformers) (3.3.2)\n",
      "Requirement already satisfied: idna<4,>=2.5 in c:\\users\\subommas\\llm_projects\\hrbot\\venv\\lib\\site-packages (from requests->huggingface-hub>=0.15.1->sentence-transformers) (3.6)\n",
      "Requirement already satisfied: urllib3<3,>=1.21.1 in c:\\users\\subommas\\llm_projects\\hrbot\\venv\\lib\\site-packages (from requests->huggingface-hub>=0.15.1->sentence-transformers) (2.2.0)\n",
      "Requirement already satisfied: certifi>=2017.4.17 in c:\\users\\subommas\\llm_projects\\hrbot\\venv\\lib\\site-packages (from requests->huggingface-hub>=0.15.1->sentence-transformers) (2024.2.2)\n",
      "Requirement already satisfied: mpmath>=0.19 in c:\\users\\subommas\\llm_projects\\hrbot\\venv\\lib\\site-packages (from sympy->torch>=1.11.0->sentence-transformers) (1.3.0)\n",
      "Note: you may need to restart the kernel to use updated packages.\n",
      "Requirement already satisfied: pydantic==1.10.11 in c:\\users\\subommas\\llm_projects\\hrbot\\venv\\lib\\site-packages (1.10.11)\n",
      "Requirement already satisfied: typing-extensions>=4.2.0 in c:\\users\\subommas\\llm_projects\\hrbot\\venv\\lib\\site-packages (from pydantic==1.10.11) (4.9.0)\n",
      "Note: you may need to restart the kernel to use updated packages.\n"
     ]
    }
   ],
   "source": [
    "%pip install llama-index --quiet\n",
    "%pip install chromadb\n",
    "%pip install sentence-transformers\n",
    "%pip install pydantic==1.10.11\n"
   ]
  },
  {
   "cell_type": "code",
   "execution_count": 67,
   "metadata": {},
   "outputs": [],
   "source": [
    "safety_settings = [\n",
    "  {\n",
    "    \"category\": \"HARM_CATEGORY_HARASSMENT\",\n",
    "    \"threshold\": \"BLOCK_ONLY_HIGH\"\n",
    "  },\n",
    "  {\n",
    "    \"category\": \"HARM_CATEGORY_HATE_SPEECH\",\n",
    "    \"threshold\": \"BLOCK_ONLY_HIGH\"\n",
    "  },\n",
    "  {\n",
    "    \"category\": \"HARM_CATEGORY_SEXUALLY_EXPLICIT\",\n",
    "    \"threshold\": \"BLOCK_ONLY_HIGH\"\n",
    "  },\n",
    "  {\n",
    "    \"category\": \"HARM_CATEGORY_DANGEROUS_CONTENT\",\n",
    "    \"threshold\": \"BLOCK_ONLY_HIGH\"\n",
    "  },\n",
    "]"
   ]
  },
  {
   "cell_type": "markdown",
   "metadata": {},
   "source": [
    "# Configure Gemini LLM and Emdedding modals"
   ]
  },
  {
   "cell_type": "code",
   "execution_count": 117,
   "metadata": {},
   "outputs": [],
   "source": [
    " # not used videos images\n",
    "gemini_pro = GeminiMultiModal(model_name=\"models/gemini-pro-vision\", safety_settings=safety_settings)\n",
    "#gemini = Gemini(model_name=\"models/gemini-pro\", safety_settings=safety_settings, api_key=GOOGLE_API_KEY)\n",
    "gemini = Gemini(model_name=\"models/gemini-pro\", temperature=1, max_tokens=2048, safety_settings=safety_settings)\n",
    "#used\n",
    "gemini_embedding = GeminiEmbedding(model_name=\"models/embedding-001\", api_key=GOOGLE_API_KEY)\n",
    "\n"
   ]
  },
  {
   "cell_type": "markdown",
   "metadata": {},
   "source": [
    "# Libraries for Vector DB"
   ]
  },
  {
   "cell_type": "code",
   "execution_count": 69,
   "metadata": {},
   "outputs": [],
   "source": [
    "# import\n",
    "from llama_index.core import ServiceContext, VectorStoreIndex, download_loader, set_global_service_context\n",
    "from llama_index.core import  SimpleDirectoryReader\n",
    "from llama_index.vector_stores.chroma import ChromaVectorStore\n",
    "from llama_index.core import StorageContext\n",
    "from IPython.display import Markdown, display\n",
    "import chromadb"
   ]
  },
  {
   "cell_type": "markdown",
   "metadata": {},
   "source": [
    "# HR documents "
   ]
  },
  {
   "cell_type": "code",
   "execution_count": 50,
   "metadata": {},
   "outputs": [
    {
     "data": {
      "text/plain": [
       "('data/paul_graham/paul_graham_essay.txt',\n",
       " <http.client.HTTPMessage at 0x1d4e1ba58a0>)"
      ]
     },
     "execution_count": 50,
     "metadata": {},
     "output_type": "execute_result"
    }
   ],
   "source": [
    "# Not using the below data\n",
    "import urllib.request\n",
    "\n",
    "# Create the directory\n",
    "os.makedirs('data/paul_graham/', exist_ok=True)\n",
    "\n",
    "# Download the file\n",
    "url = 'https://raw.githubusercontent.com/run-llama/llama_index/main/docs/examples/data/paul_graham/paul_graham_essay.txt'\n",
    "urllib.request.urlretrieve(url, 'data/paul_graham/paul_graham_essay.txt')\n"
   ]
  },
  {
   "cell_type": "code",
   "execution_count": null,
   "metadata": {},
   "outputs": [],
   "source": [
    "import os\n",
    "\n",
    "def read_folder(folder):\n",
    "    content = []\n",
    "    for file in os.listdir(folder):\n",
    "        file_path = os.path.join(folder, file)\n",
    "        try:\n",
    "            with open(file_path, 'r', encoding='utf-8') as f:\n",
    "                print(f.read())\n",
    "        except UnicodeDecodeError:\n",
    "            # If decoding with utf-8 fails, try 'ISO-8859-1'\n",
    "            with open(file_path, 'r', encoding='ISO-8859-1') as f:\n",
    "                print(f.read())\n",
    "    return content\n",
    "\n",
    "folder = \"C:\\\\Users\\\\SUBOMMAS\\\\LLM_Projects\\\\HRBOT\\\\resources\\\\HR_Documents\"\n",
    "docs = read_folder(folder)\n"
   ]
  },
  {
   "cell_type": "code",
   "execution_count": 93,
   "metadata": {},
   "outputs": [],
   "source": [
    "documents = SimpleDirectoryReader(\"../resources/HR_Documents\").load_data()"
   ]
  },
  {
   "cell_type": "code",
   "execution_count": 71,
   "metadata": {},
   "outputs": [],
   "source": [
    "from llama_index.core.node_parser import SentenceSplitter\n",
    "from llama_index.core.schema import MetadataMode"
   ]
  },
  {
   "cell_type": "code",
   "execution_count": null,
   "metadata": {},
   "outputs": [],
   "source": [
    "#Dont'run\n",
    "def load_corpus(documents, verbose=False):\n",
    "    if verbose:\n",
    "        print(f\"Loading files {documents}\")\n",
    "    if verbose:\n",
    "        print(f\"Loaded {len(documents)} docs\")\n",
    "\n",
    "    parser = SentenceSplitter()\n",
    "    nodes = parser.get_nodes_from_documents(documents, show_progress=verbose)\n",
    "\n",
    "    if verbose:\n",
    "        print(f\"Parsed {len(nodes)} nodes\")\n",
    "\n",
    "    return nodes"
   ]
  },
  {
   "cell_type": "code",
   "execution_count": null,
   "metadata": {},
   "outputs": [],
   "source": [
    "#Dont'run\n",
    "train_nodes = load_corpus(documents, verbose=True)"
   ]
  },
  {
   "cell_type": "markdown",
   "metadata": {},
   "source": [
    "# Configure Vector DB and Vector Index"
   ]
  },
  {
   "cell_type": "code",
   "execution_count": 94,
   "metadata": {},
   "outputs": [
    {
     "ename": "UniqueConstraintError",
     "evalue": "Collection hraiboting already exists",
     "output_type": "error",
     "traceback": [
      "\u001b[1;31m---------------------------------------------------------------------------\u001b[0m",
      "\u001b[1;31mUniqueConstraintError\u001b[0m                     Traceback (most recent call last)",
      "Cell \u001b[1;32mIn[94], line 3\u001b[0m\n\u001b[0;32m      1\u001b[0m \u001b[39m# create client and a new collection\u001b[39;00m\n\u001b[0;32m      2\u001b[0m chroma_client \u001b[39m=\u001b[39m chromadb\u001b[39m.\u001b[39mEphemeralClient()\n\u001b[1;32m----> 3\u001b[0m chroma_collection \u001b[39m=\u001b[39m chroma_client\u001b[39m.\u001b[39;49mcreate_collection(\u001b[39m\"\u001b[39;49m\u001b[39mhraiboting\u001b[39;49m\u001b[39m\"\u001b[39;49m)\n\u001b[0;32m      5\u001b[0m \u001b[39m# Define which embedding model to use \"models/embedding-001\"\u001b[39;00m\n\u001b[0;32m      6\u001b[0m \u001b[39m#gemini_embed_model = GeminiEmbedding(model_name=\"models/embedding-001\")\u001b[39;00m\n\u001b[0;32m      9\u001b[0m \u001b[39m\"\"\"\u001b[39;00m\n\u001b[0;32m     10\u001b[0m \u001b[39m#ServiceContext is deprecated, please use `llama_index.settings.Settings` instead.) -- Deprecated since version 0.10.0.\u001b[39;00m\n\u001b[0;32m     11\u001b[0m \u001b[39mGOOGLE_API_KEY = os.getenv(\"GOOGLE_API_KEY\")\u001b[39;00m\n\u001b[1;32m   (...)\u001b[0m\n\u001b[0;32m     18\u001b[0m \n\u001b[0;32m     19\u001b[0m \u001b[39m\"\"\"\u001b[39;00m\n",
      "File \u001b[1;32mc:\\Users\\SUBOMMAS\\LLM_Projects\\HRBOT\\venv\\lib\\site-packages\\chromadb\\api\\client.py:198\u001b[0m, in \u001b[0;36mClient.create_collection\u001b[1;34m(self, name, metadata, embedding_function, data_loader, get_or_create)\u001b[0m\n\u001b[0;32m    187\u001b[0m \u001b[39m@override\u001b[39m\n\u001b[0;32m    188\u001b[0m \u001b[39mdef\u001b[39;00m \u001b[39mcreate_collection\u001b[39m(\n\u001b[0;32m    189\u001b[0m     \u001b[39mself\u001b[39m,\n\u001b[1;32m   (...)\u001b[0m\n\u001b[0;32m    196\u001b[0m     get_or_create: \u001b[39mbool\u001b[39m \u001b[39m=\u001b[39m \u001b[39mFalse\u001b[39;00m,\n\u001b[0;32m    197\u001b[0m ) \u001b[39m-\u001b[39m\u001b[39m>\u001b[39m Collection:\n\u001b[1;32m--> 198\u001b[0m     \u001b[39mreturn\u001b[39;00m \u001b[39mself\u001b[39;49m\u001b[39m.\u001b[39;49m_server\u001b[39m.\u001b[39;49mcreate_collection(\n\u001b[0;32m    199\u001b[0m         name\u001b[39m=\u001b[39;49mname,\n\u001b[0;32m    200\u001b[0m         metadata\u001b[39m=\u001b[39;49mmetadata,\n\u001b[0;32m    201\u001b[0m         embedding_function\u001b[39m=\u001b[39;49membedding_function,\n\u001b[0;32m    202\u001b[0m         data_loader\u001b[39m=\u001b[39;49mdata_loader,\n\u001b[0;32m    203\u001b[0m         tenant\u001b[39m=\u001b[39;49m\u001b[39mself\u001b[39;49m\u001b[39m.\u001b[39;49mtenant,\n\u001b[0;32m    204\u001b[0m         database\u001b[39m=\u001b[39;49m\u001b[39mself\u001b[39;49m\u001b[39m.\u001b[39;49mdatabase,\n\u001b[0;32m    205\u001b[0m         get_or_create\u001b[39m=\u001b[39;49mget_or_create,\n\u001b[0;32m    206\u001b[0m     )\n",
      "File \u001b[1;32mc:\\Users\\SUBOMMAS\\LLM_Projects\\HRBOT\\venv\\lib\\site-packages\\chromadb\\telemetry\\opentelemetry\\__init__.py:127\u001b[0m, in \u001b[0;36mtrace_method.<locals>.decorator.<locals>.wrapper\u001b[1;34m(*args, **kwargs)\u001b[0m\n\u001b[0;32m    125\u001b[0m \u001b[39mglobal\u001b[39;00m tracer, granularity\n\u001b[0;32m    126\u001b[0m \u001b[39mif\u001b[39;00m trace_granularity \u001b[39m<\u001b[39m granularity:\n\u001b[1;32m--> 127\u001b[0m     \u001b[39mreturn\u001b[39;00m f(\u001b[39m*\u001b[39margs, \u001b[39m*\u001b[39m\u001b[39m*\u001b[39mkwargs)\n\u001b[0;32m    128\u001b[0m \u001b[39mif\u001b[39;00m \u001b[39mnot\u001b[39;00m tracer:\n\u001b[0;32m    129\u001b[0m     \u001b[39mreturn\u001b[39;00m f(\u001b[39m*\u001b[39margs, \u001b[39m*\u001b[39m\u001b[39m*\u001b[39mkwargs)\n",
      "File \u001b[1;32mc:\\Users\\SUBOMMAS\\LLM_Projects\\HRBOT\\venv\\lib\\site-packages\\chromadb\\api\\segment.py:166\u001b[0m, in \u001b[0;36mSegmentAPI.create_collection\u001b[1;34m(self, name, metadata, embedding_function, data_loader, get_or_create, tenant, database)\u001b[0m\n\u001b[0;32m    162\u001b[0m check_index_name(name)\n\u001b[0;32m    164\u001b[0m \u001b[39mid\u001b[39m \u001b[39m=\u001b[39m uuid4()\n\u001b[1;32m--> 166\u001b[0m coll, created \u001b[39m=\u001b[39m \u001b[39mself\u001b[39;49m\u001b[39m.\u001b[39;49m_sysdb\u001b[39m.\u001b[39;49mcreate_collection(\n\u001b[0;32m    167\u001b[0m     \u001b[39mid\u001b[39;49m\u001b[39m=\u001b[39;49m\u001b[39mid\u001b[39;49m,\n\u001b[0;32m    168\u001b[0m     name\u001b[39m=\u001b[39;49mname,\n\u001b[0;32m    169\u001b[0m     metadata\u001b[39m=\u001b[39;49mmetadata,\n\u001b[0;32m    170\u001b[0m     dimension\u001b[39m=\u001b[39;49m\u001b[39mNone\u001b[39;49;00m,\n\u001b[0;32m    171\u001b[0m     get_or_create\u001b[39m=\u001b[39;49mget_or_create,\n\u001b[0;32m    172\u001b[0m     tenant\u001b[39m=\u001b[39;49mtenant,\n\u001b[0;32m    173\u001b[0m     database\u001b[39m=\u001b[39;49mdatabase,\n\u001b[0;32m    174\u001b[0m )\n\u001b[0;32m    176\u001b[0m \u001b[39mif\u001b[39;00m created:\n\u001b[0;32m    177\u001b[0m     segments \u001b[39m=\u001b[39m \u001b[39mself\u001b[39m\u001b[39m.\u001b[39m_manager\u001b[39m.\u001b[39mcreate_segments(coll)\n",
      "File \u001b[1;32mc:\\Users\\SUBOMMAS\\LLM_Projects\\HRBOT\\venv\\lib\\site-packages\\chromadb\\telemetry\\opentelemetry\\__init__.py:127\u001b[0m, in \u001b[0;36mtrace_method.<locals>.decorator.<locals>.wrapper\u001b[1;34m(*args, **kwargs)\u001b[0m\n\u001b[0;32m    125\u001b[0m \u001b[39mglobal\u001b[39;00m tracer, granularity\n\u001b[0;32m    126\u001b[0m \u001b[39mif\u001b[39;00m trace_granularity \u001b[39m<\u001b[39m granularity:\n\u001b[1;32m--> 127\u001b[0m     \u001b[39mreturn\u001b[39;00m f(\u001b[39m*\u001b[39margs, \u001b[39m*\u001b[39m\u001b[39m*\u001b[39mkwargs)\n\u001b[0;32m    128\u001b[0m \u001b[39mif\u001b[39;00m \u001b[39mnot\u001b[39;00m tracer:\n\u001b[0;32m    129\u001b[0m     \u001b[39mreturn\u001b[39;00m f(\u001b[39m*\u001b[39margs, \u001b[39m*\u001b[39m\u001b[39m*\u001b[39mkwargs)\n",
      "File \u001b[1;32mc:\\Users\\SUBOMMAS\\LLM_Projects\\HRBOT\\venv\\lib\\site-packages\\chromadb\\db\\mixins\\sysdb.py:225\u001b[0m, in \u001b[0;36mSqlSysDB.create_collection\u001b[1;34m(self, id, name, metadata, dimension, get_or_create, tenant, database)\u001b[0m\n\u001b[0;32m    218\u001b[0m         \u001b[39mreturn\u001b[39;00m (\n\u001b[0;32m    219\u001b[0m             \u001b[39mself\u001b[39m\u001b[39m.\u001b[39mget_collections(\n\u001b[0;32m    220\u001b[0m                 \u001b[39mid\u001b[39m\u001b[39m=\u001b[39mcollection[\u001b[39m\"\u001b[39m\u001b[39mid\u001b[39m\u001b[39m\"\u001b[39m], tenant\u001b[39m=\u001b[39mtenant, database\u001b[39m=\u001b[39mdatabase\n\u001b[0;32m    221\u001b[0m             )[\u001b[39m0\u001b[39m],\n\u001b[0;32m    222\u001b[0m             \u001b[39mFalse\u001b[39;00m,\n\u001b[0;32m    223\u001b[0m         )\n\u001b[0;32m    224\u001b[0m     \u001b[39melse\u001b[39;00m:\n\u001b[1;32m--> 225\u001b[0m         \u001b[39mraise\u001b[39;00m UniqueConstraintError(\u001b[39mf\u001b[39m\u001b[39m\"\u001b[39m\u001b[39mCollection \u001b[39m\u001b[39m{\u001b[39;00mname\u001b[39m}\u001b[39;00m\u001b[39m already exists\u001b[39m\u001b[39m\"\u001b[39m)\n\u001b[0;32m    227\u001b[0m topic \u001b[39m=\u001b[39m \u001b[39mself\u001b[39m\u001b[39m.\u001b[39m_assignment_policy\u001b[39m.\u001b[39massign_collection(\u001b[39mid\u001b[39m)\n\u001b[0;32m    228\u001b[0m collection \u001b[39m=\u001b[39m Collection(\n\u001b[0;32m    229\u001b[0m     \u001b[39mid\u001b[39m\u001b[39m=\u001b[39m\u001b[39mid\u001b[39m,\n\u001b[0;32m    230\u001b[0m     topic\u001b[39m=\u001b[39mtopic,\n\u001b[1;32m   (...)\u001b[0m\n\u001b[0;32m    235\u001b[0m     database\u001b[39m=\u001b[39mdatabase,\n\u001b[0;32m    236\u001b[0m )\n",
      "\u001b[1;31mUniqueConstraintError\u001b[0m: Collection hraiboting already exists"
     ]
    }
   ],
   "source": [
    "\n",
    "# create client and a new collection\n",
    "chroma_client = chromadb.EphemeralClient()\n",
    "chroma_collection = chroma_client.create_collection(\"hraiboting\")\n",
    "\n",
    "# Define which embedding model to use \"models/embedding-001\"\n",
    "#gemini_embed_model = GeminiEmbedding(model_name=\"models/embedding-001\")\n",
    "\n",
    "\n",
    "\"\"\"\n",
    "#ServiceContext is deprecated, please use `llama_index.settings.Settings` instead.) -- Deprecated since version 0.10.0.\n",
    "GOOGLE_API_KEY = os.getenv(\"GOOGLE_API_KEY\")\n",
    "from llama_index.core import Settings\n",
    "# Using the embedding model to Gemini\n",
    "Settings.embed_model = GeminiEmbedding(\n",
    "    model_name=\"models/embedding-001\", api_key=GOOGLE_API_KEY\n",
    ")\n",
    "Settings.llm = Gemini(api_key=GOOGLE_API_KEY)\n",
    "\n",
    "\"\"\""
   ]
  },
  {
   "cell_type": "code",
   "execution_count": 118,
   "metadata": {},
   "outputs": [],
   "source": [
    "from llama_index.core import Settings\n",
    "#as default chroma db uses the open ai embeddings\n",
    "#setting up Gemini pro -llm and gemini embedding\n",
    "Settings.llm = gemini\n",
    "Settings.embed_model = gemini_embedding"
   ]
  },
  {
   "cell_type": "code",
   "execution_count": 119,
   "metadata": {},
   "outputs": [],
   "source": [
    "\n",
    "# set up ChromaVectorStore and load in data\n",
    "vector_store = ChromaVectorStore(chroma_collection=chroma_collection)\n",
    "\n",
    "storage_context = StorageContext.from_defaults(vector_store=vector_store)\n",
    "index = VectorStoreIndex.from_documents(\n",
    "    documents, storage_context=storage_context)"
   ]
  },
  {
   "cell_type": "code",
   "execution_count": 120,
   "metadata": {},
   "outputs": [
    {
     "data": {
      "text/plain": [
       "<llama_index.core.indices.vector_store.base.VectorStoreIndex at 0x1d4e6df2620>"
      ]
     },
     "execution_count": 120,
     "metadata": {},
     "output_type": "execute_result"
    }
   ],
   "source": [
    "index"
   ]
  },
  {
   "cell_type": "markdown",
   "metadata": {},
   "source": [
    "# Query prompt from index query engine"
   ]
  },
  {
   "cell_type": "code",
   "execution_count": 121,
   "metadata": {},
   "outputs": [],
   "source": [
    "# Query Data\n",
    "query_engine = index.as_query_engine()\n",
    "response = query_engine.query(\"Which is the company, how much is the size of the ipo?\")"
   ]
  },
  {
   "cell_type": "code",
   "execution_count": null,
   "metadata": {},
   "outputs": [],
   "source": [
    "import pathlib\n",
    "import textwrap\n",
    "from IPython.display import  Markdown\n",
    "from IPython.display import  display\n",
    "\n",
    "def to_markdown(text):\n",
    "    #text = text.replace(\".\", \"*\")\n",
    "    return Markdown(textwrap.indent(text,'> ', predicate=lambda _:True))\n",
    "    "
   ]
  },
  {
   "cell_type": "markdown",
   "metadata": {},
   "source": [
    "# Prompt response"
   ]
  },
  {
   "cell_type": "code",
   "execution_count": 122,
   "metadata": {},
   "outputs": [
    {
     "data": {
      "text/markdown": [
       "<b>The company is Vibhor Steel Tubes, and the size of the IPO is ₹72.17 crores.</b>"
      ],
      "text/plain": [
       "<IPython.core.display.Markdown object>"
      ]
     },
     "metadata": {},
     "output_type": "display_data"
    }
   ],
   "source": [
    "display(Markdown(f\"<b>{response}</b>\"))"
   ]
  },
  {
   "cell_type": "markdown",
   "metadata": {},
   "source": []
  }
 ],
 "metadata": {
  "kernelspec": {
   "display_name": "Python 3.10.0 64-bit ('venv')",
   "language": "python",
   "name": "python3"
  },
  "language_info": {
   "codemirror_mode": {
    "name": "ipython",
    "version": 3
   },
   "file_extension": ".py",
   "mimetype": "text/x-python",
   "name": "python",
   "nbconvert_exporter": "python",
   "pygments_lexer": "ipython3",
   "version": "3.10.0"
  },
  "orig_nbformat": 4,
  "vscode": {
   "interpreter": {
    "hash": "00e40789aa4b171b45271a1b239edfaef0c0abf7f6e57301bc673b8c54e742e6"
   }
  }
 },
 "nbformat": 4,
 "nbformat_minor": 2
}
